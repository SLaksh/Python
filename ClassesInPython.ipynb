{
  "nbformat": 4,
  "nbformat_minor": 0,
  "metadata": {
    "colab": {
      "provenance": [],
      "authorship_tag": "ABX9TyMWZzpCOuWwWAhFF5B7H6SB",
      "include_colab_link": true
    },
    "kernelspec": {
      "name": "python3",
      "display_name": "Python 3"
    },
    "language_info": {
      "name": "python"
    }
  },
  "cells": [
    {
      "cell_type": "markdown",
      "metadata": {
        "id": "view-in-github",
        "colab_type": "text"
      },
      "source": [
        "<a href=\"https://colab.research.google.com/github/SLaksh/Python/blob/main/ClassesInPython.ipynb\" target=\"_parent\"><img src=\"https://colab.research.google.com/assets/colab-badge.svg\" alt=\"Open In Colab\"/></a>"
      ]
    },
    {
      "cell_type": "markdown",
      "source": [
        "**Before List Comprehension**"
      ],
      "metadata": {
        "id": "EWBe1cNG9DuR"
      }
    },
    {
      "cell_type": "code",
      "execution_count": null,
      "metadata": {
        "id": "WaVcHWFgTmtE",
        "colab": {
          "base_uri": "https://localhost:8080/"
        },
        "outputId": "f079bf34-8d3a-4fc0-913e-27c4291ba71c"
      },
      "outputs": [
        {
          "output_type": "stream",
          "name": "stdout",
          "text": [
            "['Apple', 'Adani', 'Accenture']\n"
          ]
        }
      ],
      "source": [
        "companies = [\"Apple\", \"Intel\", \"Google\", \"Microsoft\", \"Bosch\", \"Adani\", \"Accenture\"]\n",
        "newlist = []\n",
        "\n",
        "for x in companies:\n",
        "  if \"A\" in x:\n",
        "    newlist.append(x)\n",
        "\n",
        "print(newlist) "
      ]
    },
    {
      "cell_type": "markdown",
      "source": [
        "**After List Comprehension**"
      ],
      "metadata": {
        "id": "YSWK9ysI-ADB"
      }
    },
    {
      "cell_type": "code",
      "source": [
        "companies = [\"Apple\", \"Intel\", \"Google\", \"Microsoft\", \"Bosch\", \"Adani\", \"Accenture\"]\n",
        "newlist = [x for x in companies if \"A\" in x]\n",
        "\n",
        "print(newlist) "
      ],
      "metadata": {
        "id": "GD2dMK8b-VUb"
      },
      "execution_count": null,
      "outputs": []
    },
    {
      "cell_type": "markdown",
      "source": [
        "**In defining a LIst**"
      ],
      "metadata": {
        "id": "d7L65o5K-xFB"
      }
    },
    {
      "cell_type": "code",
      "source": [
        "list = [i for i in range(11) if i % 2 == 0]\n",
        "print(list)\n"
      ],
      "metadata": {
        "id": "TanSyeH_-Wky"
      },
      "execution_count": null,
      "outputs": []
    },
    {
      "cell_type": "markdown",
      "source": [
        "**Defining Matrix in List Comprehension**"
      ],
      "metadata": {
        "id": "DjjajucZ-8br"
      }
    },
    {
      "cell_type": "code",
      "source": [
        "matrix = [[j for j in range(3)] for i in range(3)]\n",
        "\n",
        "print(matrix)\n"
      ],
      "metadata": {
        "colab": {
          "base_uri": "https://localhost:8080/"
        },
        "id": "pPkzJesm_PL5",
        "outputId": "21a8876a-3cfd-4ed5-eba6-7e40f97ab93b"
      },
      "execution_count": null,
      "outputs": [
        {
          "output_type": "stream",
          "name": "stdout",
          "text": [
            "[[0, 1, 2], [0, 1, 2], [0, 1, 2]]\n"
          ]
        }
      ]
    },
    {
      "cell_type": "markdown",
      "source": [
        "**Iterating through string with LIst Comprehension**"
      ],
      "metadata": {
        "id": "tK-oxVTJ_Iu9"
      }
    },
    {
      "cell_type": "code",
      "source": [
        "# Empty list\n",
        "List = []\n",
        "\n",
        "# Traditional approach of iterating\n",
        "for character in 'MBA @ CMS is a Celebration in Learning!':\n",
        "\tList.append(character)\n",
        "\n",
        "# Display list\n",
        "print(List)\n"
      ],
      "metadata": {
        "colab": {
          "base_uri": "https://localhost:8080/"
        },
        "id": "y_Qx7qqw_985",
        "outputId": "a384f663-0eae-41c5-90ff-13caeacf3efa"
      },
      "execution_count": null,
      "outputs": [
        {
          "output_type": "stream",
          "name": "stdout",
          "text": [
            "['M', 'B', 'A', ' ', '@', ' ', 'C', 'M', 'S', '.', ' ', 'A', ' ', 'C', 'e', 'l', 'e', 'b', 'r', 'a', 't', 'i', 'o', 'n', ' ', 'i', 'n', ' ', 'L', 'e', 'a', 'r', 'n', 'i', 'n', 'g', '!']\n"
          ]
        }
      ]
    },
    {
      "cell_type": "markdown",
      "source": [
        "**With List Comprehension**"
      ],
      "metadata": {
        "id": "OQ7563PaANSK"
      }
    },
    {
      "cell_type": "markdown",
      "source": [
        "## Nested List"
      ],
      "metadata": {
        "id": "0THoI66MAPIN"
      }
    },
    {
      "cell_type": "code",
      "source": [
        "# Using list comprehension to iterate through loop\n",
        "List = [character for character in 'MBA @ CMS is a Celebration in Learning!']\n",
        " \n",
        "# Displaying list\n",
        "print(List)"
      ],
      "metadata": {
        "colab": {
          "base_uri": "https://localhost:8080/"
        },
        "id": "1-7KbZmFAT7S",
        "outputId": "98505bad-3c50-40c1-866b-55af7f4ba25f"
      },
      "execution_count": null,
      "outputs": [
        {
          "output_type": "stream",
          "name": "stdout",
          "text": [
            "['M', 'B', 'A', ' ', '@', ' ', 'C', 'M', 'S', ' ', 'i', 's', ' ', 'a', ' ', 'C', 'e', 'l', 'e', 'b', 'r', 'a', 't', 'i', 'o', 'n', ' ', 'i', 'n', ' ', 'L', 'e', 'a', 'r', 'n', 'i', 'n', 'g', '!']\n"
          ]
        }
      ]
    },
    {
      "cell_type": "markdown",
      "source": [
        "**Nested List Comprehension with'if'**"
      ],
      "metadata": {
        "id": "HILIR_UWBy6k"
      }
    },
    {
      "cell_type": "code",
      "source": [
        "years = [['January', 'February', 'March'], ['April', 'May', 'June'], ['July', 'August', 'September'],['October','November','December']]\n",
        "# Nested List comprehension with an if condition\n",
        "year1 = [years for sublist in years for years in sublist if len(years) <= 5]\n",
        "print(year1)"
      ],
      "metadata": {
        "colab": {
          "base_uri": "https://localhost:8080/"
        },
        "id": "jj_jOINcB6e7",
        "outputId": "646988bf-cd95-47ad-bd14-d40ccb9e7442"
      },
      "execution_count": null,
      "outputs": [
        {
          "output_type": "stream",
          "name": "stdout",
          "text": [
            "['March', 'April', 'May', 'June', 'July']\n"
          ]
        }
      ]
    },
    {
      "cell_type": "markdown",
      "source": [
        "**Creating a Class**"
      ],
      "metadata": {
        "id": "hIuEJKTgC2yR"
      }
    },
    {
      "cell_type": "code",
      "source": [
        "class MyClass:\n",
        "  x =  \"I am a Business Analyst\""
      ],
      "metadata": {
        "id": "bIjCmju2B7WB"
      },
      "execution_count": null,
      "outputs": []
    },
    {
      "cell_type": "markdown",
      "source": [
        "**Create an Object**"
      ],
      "metadata": {
        "id": "xluXC26sDOJ1"
      }
    },
    {
      "cell_type": "code",
      "source": [
        "stud = MyClass()\n",
        "print(stud.x) "
      ],
      "metadata": {
        "colab": {
          "base_uri": "https://localhost:8080/"
        },
        "id": "787EkstNDVPC",
        "outputId": "65da2ed1-273e-4d76-f5b7-105c9fd9ee29"
      },
      "execution_count": null,
      "outputs": [
        {
          "output_type": "stream",
          "name": "stdout",
          "text": [
            "I am a Business Analyst\n"
          ]
        }
      ]
    },
    {
      "cell_type": "markdown",
      "source": [
        "# **The __init__() Function in Python**"
      ],
      "metadata": {
        "id": "JUazEWntDwNb"
      }
    },
    {
      "cell_type": "markdown",
      "source": [
        "All classes have a function called __init__(), which is always executed when the class is being initiated.\n",
        "\n",
        "Use the __init__() function to assign values to object properties, or other operations that are necessary to do when the object is being created:\n",
        "\n",
        ".__init__() sets the initial state of the object by assigning the values of the object’s properties. That is, .__init__() initializes each new instance of the class.\n",
        "\n",
        "You can give .__init__() any number of parameters, but the first parameter will always be a variable called self"
      ],
      "metadata": {
        "id": "1aJN-gPHD0XR"
      }
    },
    {
      "cell_type": "code",
      "source": [
        "class Person:\n",
        "  def __init__(self, name, age):\n",
        "    self.name = name\n",
        "    self.age = age\n",
        "\n",
        "p1 = Person(\"James\", 26)\n",
        "\n",
        "print(p1.name)\n",
        "print(p1.age) "
      ],
      "metadata": {
        "colab": {
          "base_uri": "https://localhost:8080/"
        },
        "id": "H5vUYU2PD6A5",
        "outputId": "05bd0d5d-a780-4174-fcb6-0942ebf8a0bb"
      },
      "execution_count": null,
      "outputs": [
        {
          "output_type": "stream",
          "name": "stdout",
          "text": [
            "James\n",
            "26\n"
          ]
        }
      ]
    },
    {
      "cell_type": "code",
      "source": [
        "class Stack:  # Defining the Stack class.\n",
        "    def __init__(self): # Defining the constructor function. Parameter to manipulate the object\n",
        "        print(\"Hi!\")\n",
        "\n",
        "\n",
        "stack_object = Stack()  \n"
      ],
      "metadata": {
        "id": "Ge_kJuGdQK5q"
      },
      "execution_count": null,
      "outputs": []
    },
    {
      "cell_type": "markdown",
      "source": [
        "**Creating a Class**"
      ],
      "metadata": {
        "id": "wWP_HhhXTMPJ"
      }
    },
    {
      "cell_type": "code",
      "source": [
        "class Person:\n",
        "    def __init__(self, name, age, profession):\n",
        "        # data members (instance variables)\n",
        "        self.name = name\n",
        "        self.age = age\n",
        "        self.profession = profession\n",
        "\n",
        "    # Behavior (instance methods)\n",
        "    def show(self):\n",
        "        print('Name:', self.name, 'Age:', self.age, 'Profession:', self.profession)\n",
        "\n",
        "    # Behavior (instance methods)\n",
        "    def work(self):\n",
        "        print(self.name, 'working as a', self.profession)"
      ],
      "metadata": {
        "id": "6w9tSwUTTUIi"
      },
      "execution_count": null,
      "outputs": []
    },
    {
      "cell_type": "markdown",
      "source": [
        "**Creating an Object**"
      ],
      "metadata": {
        "id": "vYwjxkuxTr6L"
      }
    },
    {
      "cell_type": "code",
      "source": [
        "steve = Person('Steve', '64', 'Apple-CEO')"
      ],
      "metadata": {
        "id": "1gDwSDEzTxIn"
      },
      "execution_count": null,
      "outputs": []
    },
    {
      "cell_type": "markdown",
      "source": [
        "**Call the Methods**"
      ],
      "metadata": {
        "id": "4pICyJwGUE6W"
      }
    },
    {
      "cell_type": "code",
      "source": [
        "steve.show\n",
        "steve.work"
      ],
      "metadata": {
        "id": "kAPzdpyjUMWB",
        "colab": {
          "base_uri": "https://localhost:8080/"
        },
        "outputId": "99dd3362-3d6e-421b-fc86-fc94e4b212b2"
      },
      "execution_count": null,
      "outputs": [
        {
          "output_type": "execute_result",
          "data": {
            "text/plain": [
              "<bound method Person.work of <__main__.Person object at 0x7fb30ed5f690>>"
            ]
          },
          "metadata": {},
          "execution_count": 4
        }
      ]
    },
    {
      "cell_type": "markdown",
      "source": [
        "**All in one place**"
      ],
      "metadata": {
        "id": "gcXFdTeRU6Es"
      }
    },
    {
      "cell_type": "code",
      "source": [
        "class Person:\n",
        "    def __init__(self, name, age, profession):\n",
        "        # data members (instance variables)\n",
        "        self.name = name\n",
        "        self.age = age\n",
        "        self.profession = profession\n",
        "\n",
        "    # Behavior (instance methods)\n",
        "    def show(self):\n",
        "        print('Name:', self.name, 'Age:', self.age, 'Profession:', self.profession)\n",
        "\n",
        "    # Behavior (instance methods)\n",
        "    def work(self):\n",
        "        print(self.name, 'working as a', self.profession)\n",
        "\n",
        "steve = Person('Steve', '64', 'Apple-CEO')\n",
        "\n",
        "steve.show()\n",
        "steve.work()"
      ],
      "metadata": {
        "id": "hwMkzX5_U5hd",
        "colab": {
          "base_uri": "https://localhost:8080/"
        },
        "outputId": "f21ac888-c24b-4625-fd9f-9259e26d076c"
      },
      "execution_count": null,
      "outputs": [
        {
          "output_type": "stream",
          "name": "stdout",
          "text": [
            "Name: Steve Age: 64 Profession: Apple-CEO\n",
            "Steve working as a Apple-CEO\n"
          ]
        }
      ]
    },
    {
      "cell_type": "markdown",
      "source": [
        "# **Class & Methods**"
      ],
      "metadata": {
        "id": "PuenhH2V6yqd"
      }
    },
    {
      "cell_type": "code",
      "source": [],
      "metadata": {
        "id": "6F-2oEcw64EF"
      },
      "execution_count": null,
      "outputs": []
    }
  ]
}