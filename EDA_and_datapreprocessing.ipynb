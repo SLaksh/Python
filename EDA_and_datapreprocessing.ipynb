{
  "nbformat": 4,
  "nbformat_minor": 0,
  "metadata": {
    "colab": {
      "provenance": [],
      "include_colab_link": true
    },
    "kernelspec": {
      "display_name": "Python 3",
      "language": "python",
      "name": "python3"
    },
    "language_info": {
      "codemirror_mode": {
        "name": "ipython",
        "version": 3
      },
      "file_extension": ".py",
      "mimetype": "text/x-python",
      "name": "python",
      "nbconvert_exporter": "python",
      "pygments_lexer": "ipython3",
      "version": "3.8.3"
    }
  },
  "cells": [
    {
      "cell_type": "markdown",
      "metadata": {
        "id": "view-in-github",
        "colab_type": "text"
      },
      "source": [
        "<a href=\"https://colab.research.google.com/github/SLaksh/Python/blob/main/EDA_and_datapreprocessing.ipynb\" target=\"_parent\"><img src=\"https://colab.research.google.com/assets/colab-badge.svg\" alt=\"Open In Colab\"/></a>"
      ]
    },
    {
      "cell_type": "markdown",
      "metadata": {
        "id": "FSIwnE_2MsKJ"
      },
      "source": [
        "# About Dataset\n",
        "\n",
        "Data Source: https://www.kaggle.com/snap/amazon-fine-food-reviews \n",
        "\n",
        "\n",
        "\n",
        "The Amazon Fine Food Reviews dataset consists of reviews of fine foods from Amazon.\n",
        "\n",
        "* Number of reviews: 568,454\n",
        "* Number of users: 256,059\n",
        "* Number of products: 74,258\n",
        "* Timespan: Oct 1999 - Oct 2012\n",
        "* Number of Attributes/Columns in data: 10\n",
        "\n",
        "### Attribute Information:\n",
        "\n",
        "* Id\n",
        "* ProductId - unique identifier for the product\n",
        "* UserId - unqiue identifier for the user\n",
        "* ProfileName\n",
        "* HelpfulnessNumerator - number of users who found the review helpful\n",
        "* HelpfulnessDenominator - number of users who indicated whether they found the * review helpful or not\n",
        "* Score - rating between 1 and 5\n",
        "* Time - timestamp for the review\n",
        "* Summary - brief summary of the review\n",
        "* Text - text of the review\n",
        "\n",
        "\n",
        "### Objective:\n",
        "\n",
        "**Given a review, determine whether the review is positive (rating of 4 or 5) or negative (rating of 1 or 2).**\n",
        "\n",
        "\n",
        "> How to determine if a review is positive or negative?\n",
        "\n",
        "We could use Score/Rating. A rating of 4 or 5 can be cosnidered as a positive review. A rating of 1 or 2 can be considered as negative one. A review of rating 3 is considered nuetral and such reviews are ignored from our analysis. This is an approximate and proxy way of determining the polarity (positivity/negativity) of a review."
      ]
    },
    {
      "cell_type": "markdown",
      "metadata": {
        "id": "HEXZoy6FMxTD"
      },
      "source": [
        "# [1] Reading data"
      ]
    },
    {
      "cell_type": "code",
      "metadata": {
        "id": "osQsJZ7EKXEg"
      },
      "source": [
        "%matplotlib inline\n",
        "import warnings\n",
        "warnings.filterwarnings(\"ignore\")\n",
        "\n",
        "\n",
        "import sqlite3\n",
        "import pandas as pd\n",
        "import numpy as np\n",
        "import nltk\n",
        "import string\n",
        "import matplotlib.pyplot as plt\n",
        "import seaborn as sns\n",
        "from sklearn.feature_extraction.text import TfidfTransformer\n",
        "from sklearn.feature_extraction.text import TfidfVectorizer\n",
        "\n",
        "from sklearn.feature_extraction.text import CountVectorizer\n",
        "from sklearn.metrics import confusion_matrix\n",
        "from sklearn import metrics\n",
        "from sklearn.metrics import roc_curve, auc\n",
        "from nltk.stem.porter import PorterStemmer\n",
        "\n",
        "from bs4 import BeautifulSoup\n",
        "import re\n",
        "import string\n",
        "from nltk.corpus import stopwords\n",
        "from nltk.stem import PorterStemmer\n",
        "from nltk.stem.wordnet import WordNetLemmatizer\n",
        "\n",
        "from gensim.models import Word2Vec\n",
        "from gensim.models import KeyedVectors\n",
        "import pickle\n",
        "import seaborn as sns\n",
        "from tqdm import tqdm\n",
        "import os"
      ],
      "execution_count": null,
      "outputs": []
    },
    {
      "cell_type": "markdown",
      "metadata": {
        "id": "vHt-bh-lNpP0"
      },
      "source": [
        "We have data in format of sql. So we will use sqlite to read it"
      ]
    },
    {
      "cell_type": "code",
      "metadata": {
        "id": "ylhb9uJjNOxC",
        "colab": {
          "base_uri": "https://localhost:8080/",
          "height": 73
        },
        "outputId": "5ee7543d-9963-4fff-88a0-47aa22b3b2f4"
      },
      "source": [
        "#mounting drive\n",
        "from google.colab import files\n",
        "uploaded = files.upload()"
      ],
      "execution_count": null,
      "outputs": [
        {
          "output_type": "display_data",
          "data": {
            "text/plain": [
              "<IPython.core.display.HTML object>"
            ],
            "text/html": [
              "\n",
              "     <input type=\"file\" id=\"files-1b2be80f-db03-495d-a99d-47b860426d4b\" name=\"files[]\" multiple disabled\n",
              "        style=\"border:none\" />\n",
              "     <output id=\"result-1b2be80f-db03-495d-a99d-47b860426d4b\">\n",
              "      Upload widget is only available when the cell has been executed in the\n",
              "      current browser session. Please rerun this cell to enable.\n",
              "      </output>\n",
              "      <script>// Copyright 2017 Google LLC\n",
              "//\n",
              "// Licensed under the Apache License, Version 2.0 (the \"License\");\n",
              "// you may not use this file except in compliance with the License.\n",
              "// You may obtain a copy of the License at\n",
              "//\n",
              "//      http://www.apache.org/licenses/LICENSE-2.0\n",
              "//\n",
              "// Unless required by applicable law or agreed to in writing, software\n",
              "// distributed under the License is distributed on an \"AS IS\" BASIS,\n",
              "// WITHOUT WARRANTIES OR CONDITIONS OF ANY KIND, either express or implied.\n",
              "// See the License for the specific language governing permissions and\n",
              "// limitations under the License.\n",
              "\n",
              "/**\n",
              " * @fileoverview Helpers for google.colab Python module.\n",
              " */\n",
              "(function(scope) {\n",
              "function span(text, styleAttributes = {}) {\n",
              "  const element = document.createElement('span');\n",
              "  element.textContent = text;\n",
              "  for (const key of Object.keys(styleAttributes)) {\n",
              "    element.style[key] = styleAttributes[key];\n",
              "  }\n",
              "  return element;\n",
              "}\n",
              "\n",
              "// Max number of bytes which will be uploaded at a time.\n",
              "const MAX_PAYLOAD_SIZE = 100 * 1024;\n",
              "\n",
              "function _uploadFiles(inputId, outputId) {\n",
              "  const steps = uploadFilesStep(inputId, outputId);\n",
              "  const outputElement = document.getElementById(outputId);\n",
              "  // Cache steps on the outputElement to make it available for the next call\n",
              "  // to uploadFilesContinue from Python.\n",
              "  outputElement.steps = steps;\n",
              "\n",
              "  return _uploadFilesContinue(outputId);\n",
              "}\n",
              "\n",
              "// This is roughly an async generator (not supported in the browser yet),\n",
              "// where there are multiple asynchronous steps and the Python side is going\n",
              "// to poll for completion of each step.\n",
              "// This uses a Promise to block the python side on completion of each step,\n",
              "// then passes the result of the previous step as the input to the next step.\n",
              "function _uploadFilesContinue(outputId) {\n",
              "  const outputElement = document.getElementById(outputId);\n",
              "  const steps = outputElement.steps;\n",
              "\n",
              "  const next = steps.next(outputElement.lastPromiseValue);\n",
              "  return Promise.resolve(next.value.promise).then((value) => {\n",
              "    // Cache the last promise value to make it available to the next\n",
              "    // step of the generator.\n",
              "    outputElement.lastPromiseValue = value;\n",
              "    return next.value.response;\n",
              "  });\n",
              "}\n",
              "\n",
              "/**\n",
              " * Generator function which is called between each async step of the upload\n",
              " * process.\n",
              " * @param {string} inputId Element ID of the input file picker element.\n",
              " * @param {string} outputId Element ID of the output display.\n",
              " * @return {!Iterable<!Object>} Iterable of next steps.\n",
              " */\n",
              "function* uploadFilesStep(inputId, outputId) {\n",
              "  const inputElement = document.getElementById(inputId);\n",
              "  inputElement.disabled = false;\n",
              "\n",
              "  const outputElement = document.getElementById(outputId);\n",
              "  outputElement.innerHTML = '';\n",
              "\n",
              "  const pickedPromise = new Promise((resolve) => {\n",
              "    inputElement.addEventListener('change', (e) => {\n",
              "      resolve(e.target.files);\n",
              "    });\n",
              "  });\n",
              "\n",
              "  const cancel = document.createElement('button');\n",
              "  inputElement.parentElement.appendChild(cancel);\n",
              "  cancel.textContent = 'Cancel upload';\n",
              "  const cancelPromise = new Promise((resolve) => {\n",
              "    cancel.onclick = () => {\n",
              "      resolve(null);\n",
              "    };\n",
              "  });\n",
              "\n",
              "  // Wait for the user to pick the files.\n",
              "  const files = yield {\n",
              "    promise: Promise.race([pickedPromise, cancelPromise]),\n",
              "    response: {\n",
              "      action: 'starting',\n",
              "    }\n",
              "  };\n",
              "\n",
              "  cancel.remove();\n",
              "\n",
              "  // Disable the input element since further picks are not allowed.\n",
              "  inputElement.disabled = true;\n",
              "\n",
              "  if (!files) {\n",
              "    return {\n",
              "      response: {\n",
              "        action: 'complete',\n",
              "      }\n",
              "    };\n",
              "  }\n",
              "\n",
              "  for (const file of files) {\n",
              "    const li = document.createElement('li');\n",
              "    li.append(span(file.name, {fontWeight: 'bold'}));\n",
              "    li.append(span(\n",
              "        `(${file.type || 'n/a'}) - ${file.size} bytes, ` +\n",
              "        `last modified: ${\n",
              "            file.lastModifiedDate ? file.lastModifiedDate.toLocaleDateString() :\n",
              "                                    'n/a'} - `));\n",
              "    const percent = span('0% done');\n",
              "    li.appendChild(percent);\n",
              "\n",
              "    outputElement.appendChild(li);\n",
              "\n",
              "    const fileDataPromise = new Promise((resolve) => {\n",
              "      const reader = new FileReader();\n",
              "      reader.onload = (e) => {\n",
              "        resolve(e.target.result);\n",
              "      };\n",
              "      reader.readAsArrayBuffer(file);\n",
              "    });\n",
              "    // Wait for the data to be ready.\n",
              "    let fileData = yield {\n",
              "      promise: fileDataPromise,\n",
              "      response: {\n",
              "        action: 'continue',\n",
              "      }\n",
              "    };\n",
              "\n",
              "    // Use a chunked sending to avoid message size limits. See b/62115660.\n",
              "    let position = 0;\n",
              "    do {\n",
              "      const length = Math.min(fileData.byteLength - position, MAX_PAYLOAD_SIZE);\n",
              "      const chunk = new Uint8Array(fileData, position, length);\n",
              "      position += length;\n",
              "\n",
              "      const base64 = btoa(String.fromCharCode.apply(null, chunk));\n",
              "      yield {\n",
              "        response: {\n",
              "          action: 'append',\n",
              "          file: file.name,\n",
              "          data: base64,\n",
              "        },\n",
              "      };\n",
              "\n",
              "      let percentDone = fileData.byteLength === 0 ?\n",
              "          100 :\n",
              "          Math.round((position / fileData.byteLength) * 100);\n",
              "      percent.textContent = `${percentDone}% done`;\n",
              "\n",
              "    } while (position < fileData.byteLength);\n",
              "  }\n",
              "\n",
              "  // All done.\n",
              "  yield {\n",
              "    response: {\n",
              "      action: 'complete',\n",
              "    }\n",
              "  };\n",
              "}\n",
              "\n",
              "scope.google = scope.google || {};\n",
              "scope.google.colab = scope.google.colab || {};\n",
              "scope.google.colab._files = {\n",
              "  _uploadFiles,\n",
              "  _uploadFilesContinue,\n",
              "};\n",
              "})(self);\n",
              "</script> "
            ]
          },
          "metadata": {}
        },
        {
          "output_type": "stream",
          "name": "stdout",
          "text": [
            "Saving Reviews.csv to Reviews.csv\n"
          ]
        }
      ]
    },
    {
      "cell_type": "code",
      "metadata": {
        "id": "8XMowOPfOMkU",
        "colab": {
          "base_uri": "https://localhost:8080/",
          "height": 165
        },
        "outputId": "94409bf1-5798-43c0-d44d-d883e4027127"
      },
      "source": [
        "os.chdir('gdrive/My Drive/Reviews(1)')"
      ],
      "execution_count": null,
      "outputs": [
        {
          "output_type": "error",
          "ename": "FileNotFoundError",
          "evalue": "ignored",
          "traceback": [
            "\u001b[0;31m---------------------------------------------------------------------------\u001b[0m",
            "\u001b[0;31mFileNotFoundError\u001b[0m                         Traceback (most recent call last)",
            "\u001b[0;32m<ipython-input-7-3e42ef0e08bd>\u001b[0m in \u001b[0;36m<module>\u001b[0;34m\u001b[0m\n\u001b[0;32m----> 1\u001b[0;31m \u001b[0mos\u001b[0m\u001b[0;34m.\u001b[0m\u001b[0mchdir\u001b[0m\u001b[0;34m(\u001b[0m\u001b[0;34m'gdrive/My Drive/Reviews(1)'\u001b[0m\u001b[0;34m)\u001b[0m\u001b[0;34m\u001b[0m\u001b[0;34m\u001b[0m\u001b[0m\n\u001b[0m",
            "\u001b[0;31mFileNotFoundError\u001b[0m: [Errno 2] No such file or directory: 'gdrive/My Drive/Reviews(1)'"
          ]
        }
      ]
    },
    {
      "cell_type": "markdown",
      "metadata": {
        "id": "jIOry8rKQZ6w"
      },
      "source": [
        "We have data available in sqlite format.We will read those datapoints in which rating is not equal to 3.We feed so that we can take those datapoints where rating above 3 can be considered as positive review and rating below 3 can be considerd as negative reviews."
      ]
    },
    {
      "cell_type": "code",
      "metadata": {
        "id": "B2YLPW_pP4kK",
        "colab": {
          "base_uri": "https://localhost:8080/",
          "height": 536
        },
        "outputId": "7c4a51fe-3320-44a2-e8c2-fd576a4b7a2f"
      },
      "source": [
        "# using SQLite Table to read data.\n",
        "con = sqlite3.connect('data/database.sqlite') \n",
        "data = pd.read_sql_query(\"\"\" SELECT * FROM Reviews\"\"\", con)\n",
        "\n",
        "print(f'Shape of data is {data.shape}')\n",
        "\n",
        "data.head()"
      ],
      "execution_count": null,
      "outputs": [
        {
          "output_type": "stream",
          "text": [
            "Shape of data is (568454, 10)\n"
          ],
          "name": "stdout"
        },
        {
          "output_type": "execute_result",
          "data": {
            "text/html": [
              "<div>\n",
              "<style scoped>\n",
              "    .dataframe tbody tr th:only-of-type {\n",
              "        vertical-align: middle;\n",
              "    }\n",
              "\n",
              "    .dataframe tbody tr th {\n",
              "        vertical-align: top;\n",
              "    }\n",
              "\n",
              "    .dataframe thead th {\n",
              "        text-align: right;\n",
              "    }\n",
              "</style>\n",
              "<table border=\"1\" class=\"dataframe\">\n",
              "  <thead>\n",
              "    <tr style=\"text-align: right;\">\n",
              "      <th></th>\n",
              "      <th>Id</th>\n",
              "      <th>ProductId</th>\n",
              "      <th>UserId</th>\n",
              "      <th>ProfileName</th>\n",
              "      <th>HelpfulnessNumerator</th>\n",
              "      <th>HelpfulnessDenominator</th>\n",
              "      <th>Score</th>\n",
              "      <th>Time</th>\n",
              "      <th>Summary</th>\n",
              "      <th>Text</th>\n",
              "    </tr>\n",
              "  </thead>\n",
              "  <tbody>\n",
              "    <tr>\n",
              "      <th>0</th>\n",
              "      <td>1</td>\n",
              "      <td>B001E4KFG0</td>\n",
              "      <td>A3SGXH7AUHU8GW</td>\n",
              "      <td>delmartian</td>\n",
              "      <td>1</td>\n",
              "      <td>1</td>\n",
              "      <td>5</td>\n",
              "      <td>1303862400</td>\n",
              "      <td>Good Quality Dog Food</td>\n",
              "      <td>I have bought several of the Vitality canned d...</td>\n",
              "    </tr>\n",
              "    <tr>\n",
              "      <th>1</th>\n",
              "      <td>2</td>\n",
              "      <td>B00813GRG4</td>\n",
              "      <td>A1D87F6ZCVE5NK</td>\n",
              "      <td>dll pa</td>\n",
              "      <td>0</td>\n",
              "      <td>0</td>\n",
              "      <td>1</td>\n",
              "      <td>1346976000</td>\n",
              "      <td>Not as Advertised</td>\n",
              "      <td>Product arrived labeled as Jumbo Salted Peanut...</td>\n",
              "    </tr>\n",
              "    <tr>\n",
              "      <th>2</th>\n",
              "      <td>3</td>\n",
              "      <td>B000LQOCH0</td>\n",
              "      <td>ABXLMWJIXXAIN</td>\n",
              "      <td>Natalia Corres \"Natalia Corres\"</td>\n",
              "      <td>1</td>\n",
              "      <td>1</td>\n",
              "      <td>4</td>\n",
              "      <td>1219017600</td>\n",
              "      <td>\"Delight\" says it all</td>\n",
              "      <td>This is a confection that has been around a fe...</td>\n",
              "    </tr>\n",
              "    <tr>\n",
              "      <th>3</th>\n",
              "      <td>4</td>\n",
              "      <td>B000UA0QIQ</td>\n",
              "      <td>A395BORC6FGVXV</td>\n",
              "      <td>Karl</td>\n",
              "      <td>3</td>\n",
              "      <td>3</td>\n",
              "      <td>2</td>\n",
              "      <td>1307923200</td>\n",
              "      <td>Cough Medicine</td>\n",
              "      <td>If you are looking for the secret ingredient i...</td>\n",
              "    </tr>\n",
              "    <tr>\n",
              "      <th>4</th>\n",
              "      <td>5</td>\n",
              "      <td>B006K2ZZ7K</td>\n",
              "      <td>A1UQRSCLF8GW1T</td>\n",
              "      <td>Michael D. Bigham \"M. Wassir\"</td>\n",
              "      <td>0</td>\n",
              "      <td>0</td>\n",
              "      <td>5</td>\n",
              "      <td>1350777600</td>\n",
              "      <td>Great taffy</td>\n",
              "      <td>Great taffy at a great price.  There was a wid...</td>\n",
              "    </tr>\n",
              "  </tbody>\n",
              "</table>\n",
              "</div>"
            ],
            "text/plain": [
              "   Id  ...                                               Text\n",
              "0   1  ...  I have bought several of the Vitality canned d...\n",
              "1   2  ...  Product arrived labeled as Jumbo Salted Peanut...\n",
              "2   3  ...  This is a confection that has been around a fe...\n",
              "3   4  ...  If you are looking for the secret ingredient i...\n",
              "4   5  ...  Great taffy at a great price.  There was a wid...\n",
              "\n",
              "[5 rows x 10 columns]"
            ]
          },
          "metadata": {
            "tags": []
          },
          "execution_count": 4
        }
      ]
    },
    {
      "cell_type": "markdown",
      "metadata": {
        "id": "vYh6FLabM7k0"
      },
      "source": [
        "# [2] Exploratory data Analysis"
      ]
    },
    {
      "cell_type": "markdown",
      "metadata": {
        "id": "mw0WNoEYS7hy"
      },
      "source": [
        "##Data cleaning\n",
        "\n",
        "**First we will check for missing values**"
      ]
    },
    {
      "cell_type": "code",
      "metadata": {
        "id": "LsciJwV_M6cX",
        "colab": {
          "base_uri": "https://localhost:8080/",
          "height": 312
        },
        "outputId": "aeab8d04-d0c9-4294-d3ee-b414f1f7fef3"
      },
      "source": [
        "data.info()"
      ],
      "execution_count": null,
      "outputs": [
        {
          "output_type": "stream",
          "text": [
            "<class 'pandas.core.frame.DataFrame'>\n",
            "RangeIndex: 568454 entries, 0 to 568453\n",
            "Data columns (total 10 columns):\n",
            " #   Column                  Non-Null Count   Dtype \n",
            "---  ------                  --------------   ----- \n",
            " 0   Id                      568454 non-null  int64 \n",
            " 1   ProductId               568454 non-null  object\n",
            " 2   UserId                  568454 non-null  object\n",
            " 3   ProfileName             568454 non-null  object\n",
            " 4   HelpfulnessNumerator    568454 non-null  int64 \n",
            " 5   HelpfulnessDenominator  568454 non-null  int64 \n",
            " 6   Score                   568454 non-null  int64 \n",
            " 7   Time                    568454 non-null  int64 \n",
            " 8   Summary                 568454 non-null  object\n",
            " 9   Text                    568454 non-null  object\n",
            "dtypes: int64(5), object(5)\n",
            "memory usage: 43.4+ MB\n"
          ],
          "name": "stdout"
        }
      ]
    },
    {
      "cell_type": "markdown",
      "metadata": {
        "id": "mXG-Om7FS383"
      },
      "source": [
        "We can see that we don't have any null values. \n",
        "\n",
        "**Now we will check for duplicate entries**"
      ]
    },
    {
      "cell_type": "code",
      "metadata": {
        "id": "FDvJKQbWSgux",
        "colab": {
          "base_uri": "https://localhost:8080/",
          "height": 34
        },
        "outputId": "926c8683-eb01-46db-9425-c83e85d502f2"
      },
      "source": [
        "# filtered_data = data.drop(columns=['ProductId'])\n",
        "dup = data[data.duplicated(subset=['UserId','ProfileName','Time','Text'],keep=False)]\n",
        "dup.shape"
      ],
      "execution_count": null,
      "outputs": [
        {
          "output_type": "execute_result",
          "data": {
            "text/plain": [
              "(232415, 10)"
            ]
          },
          "metadata": {
            "tags": []
          },
          "execution_count": 6
        }
      ]
    },
    {
      "cell_type": "code",
      "metadata": {
        "id": "CCAaL8ASbpLZ",
        "colab": {
          "base_uri": "https://localhost:8080/",
          "height": 424
        },
        "outputId": "a2defa04-7f4b-468d-f07a-1ee00367154b"
      },
      "source": [
        "# example for duplicate entry\n",
        "# 'AR5J8UI46CURR'\n",
        "dup[dup['UserId'] == 'A395BORC6FGVXV']"
      ],
      "execution_count": null,
      "outputs": [
        {
          "output_type": "execute_result",
          "data": {
            "text/html": [
              "<div>\n",
              "<style scoped>\n",
              "    .dataframe tbody tr th:only-of-type {\n",
              "        vertical-align: middle;\n",
              "    }\n",
              "\n",
              "    .dataframe tbody tr th {\n",
              "        vertical-align: top;\n",
              "    }\n",
              "\n",
              "    .dataframe thead th {\n",
              "        text-align: right;\n",
              "    }\n",
              "</style>\n",
              "<table border=\"1\" class=\"dataframe\">\n",
              "  <thead>\n",
              "    <tr style=\"text-align: right;\">\n",
              "      <th></th>\n",
              "      <th>Id</th>\n",
              "      <th>ProductId</th>\n",
              "      <th>UserId</th>\n",
              "      <th>ProfileName</th>\n",
              "      <th>HelpfulnessNumerator</th>\n",
              "      <th>HelpfulnessDenominator</th>\n",
              "      <th>Score</th>\n",
              "      <th>Time</th>\n",
              "      <th>Summary</th>\n",
              "      <th>Text</th>\n",
              "    </tr>\n",
              "  </thead>\n",
              "  <tbody>\n",
              "    <tr>\n",
              "      <th>3</th>\n",
              "      <td>4</td>\n",
              "      <td>B000UA0QIQ</td>\n",
              "      <td>A395BORC6FGVXV</td>\n",
              "      <td>Karl</td>\n",
              "      <td>3</td>\n",
              "      <td>3</td>\n",
              "      <td>2</td>\n",
              "      <td>1307923200</td>\n",
              "      <td>Cough Medicine</td>\n",
              "      <td>If you are looking for the secret ingredient i...</td>\n",
              "    </tr>\n",
              "    <tr>\n",
              "      <th>136303</th>\n",
              "      <td>136304</td>\n",
              "      <td>B002Y7526Y</td>\n",
              "      <td>A395BORC6FGVXV</td>\n",
              "      <td>Karl</td>\n",
              "      <td>3</td>\n",
              "      <td>3</td>\n",
              "      <td>2</td>\n",
              "      <td>1307923200</td>\n",
              "      <td>Cough Medicine</td>\n",
              "      <td>If you are looking for the secret ingredient i...</td>\n",
              "    </tr>\n",
              "    <tr>\n",
              "      <th>544172</th>\n",
              "      <td>544173</td>\n",
              "      <td>B000U9WZ54</td>\n",
              "      <td>A395BORC6FGVXV</td>\n",
              "      <td>Karl</td>\n",
              "      <td>3</td>\n",
              "      <td>3</td>\n",
              "      <td>2</td>\n",
              "      <td>1307923200</td>\n",
              "      <td>Cough Medicine</td>\n",
              "      <td>If you are looking for the secret ingredient i...</td>\n",
              "    </tr>\n",
              "  </tbody>\n",
              "</table>\n",
              "</div>"
            ],
            "text/plain": [
              "            Id  ...                                               Text\n",
              "3            4  ...  If you are looking for the secret ingredient i...\n",
              "136303  136304  ...  If you are looking for the secret ingredient i...\n",
              "544172  544173  ...  If you are looking for the secret ingredient i...\n",
              "\n",
              "[3 rows x 10 columns]"
            ]
          },
          "metadata": {
            "tags": []
          },
          "execution_count": 7
        }
      ]
    },
    {
      "cell_type": "markdown",
      "metadata": {
        "id": "kpMn-Ib6atjs"
      },
      "source": [
        "Now we will keep only the first entry and will delete rest of the entry"
      ]
    },
    {
      "cell_type": "code",
      "metadata": {
        "id": "3M4dtDopSg3J",
        "colab": {
          "base_uri": "https://localhost:8080/",
          "height": 34
        },
        "outputId": "87c0ac74-5dff-41f6-9ec3-825f3e38c43c"
      },
      "source": [
        "df = data.drop_duplicates(subset=['UserId','ProfileName','Time','Text'],keep='first',inplace=False)\n",
        "df.shape"
      ],
      "execution_count": null,
      "outputs": [
        {
          "output_type": "execute_result",
          "data": {
            "text/plain": [
              "(393933, 10)"
            ]
          },
          "metadata": {
            "tags": []
          },
          "execution_count": 8
        }
      ]
    },
    {
      "cell_type": "markdown",
      "metadata": {
        "id": "1UieASn9b2QI"
      },
      "source": [
        "Our data points gets reduced to approx 69%"
      ]
    },
    {
      "cell_type": "code",
      "metadata": {
        "id": "9gZFVw3OSg8l",
        "colab": {
          "base_uri": "https://localhost:8080/",
          "height": 34
        },
        "outputId": "245be7b5-b078-4188-b3d7-85afe88786ce"
      },
      "source": [
        "#Checking to see how much % of data still remains\n",
        "print(f'Remaining data is {((df.shape[0]*1.0)/(data.shape[0]*1.0))*100}')"
      ],
      "execution_count": null,
      "outputs": [
        {
          "output_type": "stream",
          "text": [
            "Remaining data is 69.29901100176971\n"
          ],
          "name": "stdout"
        }
      ]
    },
    {
      "cell_type": "code",
      "metadata": {
        "id": "93-1ECTvcaSB",
        "colab": {
          "base_uri": "https://localhost:8080/",
          "height": 34
        },
        "outputId": "e36bf892-cfab-4b8d-f88c-faccc6ee3335"
      },
      "source": [
        "df.shape"
      ],
      "execution_count": null,
      "outputs": [
        {
          "output_type": "execute_result",
          "data": {
            "text/plain": [
              "(393933, 10)"
            ]
          },
          "metadata": {
            "tags": []
          },
          "execution_count": 10
        }
      ]
    },
    {
      "cell_type": "markdown",
      "metadata": {
        "id": "G7ojhujGveOi"
      },
      "source": [
        "# Analyisis of Reviews over time"
      ]
    },
    {
      "cell_type": "code",
      "metadata": {
        "id": "GxDcY1a5C13p",
        "colab": {
          "base_uri": "https://localhost:8080/",
          "height": 559
        },
        "outputId": "c0a2639d-5622-4935-c18b-bc9ab45b41cd"
      },
      "source": [
        "df['date'] = pd.to_datetime(df['Time'],unit='s')\n",
        "dff = df[['date','Text','Score']]\n",
        "dff.date = df.date.dt.strftime('%Y-%m')\n",
        "# dff['date'] = dff['date'].dt.to_timestamp()\n",
        "dff = dff.sort_values(by=['date']).reset_index(drop=True)\n",
        "dff_1 = dff[dff['Score'] == 1]\n",
        "dff_2 = dff[dff['Score'] == 2]\n",
        "dff_3 = dff[dff['Score'] == 3]\n",
        "dff_4 = dff[dff['Score'] == 4]\n",
        "dff_5 = dff[dff['Score'] == 5]\n",
        "\n",
        "dff_1 = dff_1.groupby('date')['Score'].count().reset_index()\n",
        "dff_2 = dff_2.groupby('date')['Score'].count().reset_index()\n",
        "dff_3 = dff_3.groupby('date')['Score'].count().reset_index()\n",
        "dff_5 = dff_4.groupby('date')['Score'].count().reset_index()\n",
        "dff_4 = dff_4.groupby('date')['Score'].count().reset_index()\n",
        "\n",
        "plt.figure(figsize=(20,8))\n",
        "\n",
        "plt.plot_date(x=dff_1['date'],y=dff_1['Score'],label='Score=1')\n",
        "plt.plot_date(x=dff_2['date'],y=dff_2['Score'],label='Score=2')\n",
        "plt.plot_date(x=dff_3['date'],y=dff_3['Score'],label='Score=3')\n",
        "plt.plot_date(x=dff_4['date'],y=dff_4['Score'],label='Score=4')\n",
        "plt.plot_date(x=dff_5['date'],y=dff_5['Score'],label='Score=5')\n",
        "plt.grid(linewidth=0.5,alpha=0.75)\n",
        "plt.xticks(rotation=90)\n",
        "plt.xlim('2000-01','2012-10')\n",
        "plt.xlabel('Date',fontsize=22)\n",
        "plt.ylabel('Number of review',fontsize=22)\n",
        "plt.title('Review trend from 2000 to 2012',fontsize=24);\n",
        "plt.savefig('review_trend.png')\n",
        "plt.legend()\n",
        "plt.show()"
      ],
      "execution_count": null,
      "outputs": [
        {
          "output_type": "display_data",
          "data": {
            "image/png": "[encoded data removed]",
            "text/plain": [
              "<Figure size 1440x576 with 1 Axes>"
            ]
          },
          "metadata": {
            "tags": [],
            "needs_background": "light"
          }
        }
      ]
    },
    {
      "cell_type": "markdown",
      "metadata": {
        "id": "i1AmntMVdJyM"
      },
      "source": [
        "# Analysis on Score (Target Variable)"
      ]
    },
    {
      "cell_type": "markdown",
      "metadata": {
        "id": "VlEPClP6tg9l"
      },
      "source": [
        "Now we will create our target variable from review stars. Before that we will filter only those reviews with rating > 3(positive) and less than 3(negative)"
      ]
    },
    {
      "cell_type": "code",
      "metadata": {
        "id": "O4R6G4uut2rh",
        "colab": {
          "base_uri": "https://localhost:8080/",
          "height": 34
        },
        "outputId": "d89a23d8-9307-4c3a-fe36-64c41aff623c"
      },
      "source": [
        "df = df[df['Score'] != 3]\n",
        "df.shape \n",
        "#Checking to see how much % of data still remains\n",
        "print(f'Remaining data is {((df.shape[0]*1.0)/(data.shape[0]*1.0))*100}')"
      ],
      "execution_count": null,
      "outputs": [
        {
          "output_type": "stream",
          "text": [
            "Remaining data is 64.06217565537405\n"
          ],
          "name": "stdout"
        }
      ]
    },
    {
      "cell_type": "code",
      "metadata": {
        "id": "6WhtqoyZSN6z",
        "colab": {
          "base_uri": "https://localhost:8080/",
          "height": 441
        },
        "outputId": "c799e829-6426-411a-d562-a30f0f65883c"
      },
      "source": [
        "\n",
        "score = df['Score'].apply(lambda x: 1 if x > 3 else 0)\n",
        "df['Score'] = score\n",
        "df.head(3)"
      ],
      "execution_count": null,
      "outputs": [
        {
          "output_type": "execute_result",
          "data": {
            "text/html": [
              "<div>\n",
              "<style scoped>\n",
              "    .dataframe tbody tr th:only-of-type {\n",
              "        vertical-align: middle;\n",
              "    }\n",
              "\n",
              "    .dataframe tbody tr th {\n",
              "        vertical-align: top;\n",
              "    }\n",
              "\n",
              "    .dataframe thead th {\n",
              "        text-align: right;\n",
              "    }\n",
              "</style>\n",
              "<table border=\"1\" class=\"dataframe\">\n",
              "  <thead>\n",
              "    <tr style=\"text-align: right;\">\n",
              "      <th></th>\n",
              "      <th>Id</th>\n",
              "      <th>ProductId</th>\n",
              "      <th>UserId</th>\n",
              "      <th>ProfileName</th>\n",
              "      <th>HelpfulnessNumerator</th>\n",
              "      <th>HelpfulnessDenominator</th>\n",
              "      <th>Score</th>\n",
              "      <th>Time</th>\n",
              "      <th>Summary</th>\n",
              "      <th>Text</th>\n",
              "      <th>date</th>\n",
              "    </tr>\n",
              "  </thead>\n",
              "  <tbody>\n",
              "    <tr>\n",
              "      <th>0</th>\n",
              "      <td>1</td>\n",
              "      <td>B001E4KFG0</td>\n",
              "      <td>A3SGXH7AUHU8GW</td>\n",
              "      <td>delmartian</td>\n",
              "      <td>1</td>\n",
              "      <td>1</td>\n",
              "      <td>1</td>\n",
              "      <td>1303862400</td>\n",
              "      <td>Good Quality Dog Food</td>\n",
              "      <td>I have bought several of the Vitality canned d...</td>\n",
              "      <td>2011-04-27</td>\n",
              "    </tr>\n",
              "    <tr>\n",
              "      <th>1</th>\n",
              "      <td>2</td>\n",
              "      <td>B00813GRG4</td>\n",
              "      <td>A1D87F6ZCVE5NK</td>\n",
              "      <td>dll pa</td>\n",
              "      <td>0</td>\n",
              "      <td>0</td>\n",
              "      <td>0</td>\n",
              "      <td>1346976000</td>\n",
              "      <td>Not as Advertised</td>\n",
              "      <td>Product arrived labeled as Jumbo Salted Peanut...</td>\n",
              "      <td>2012-09-07</td>\n",
              "    </tr>\n",
              "    <tr>\n",
              "      <th>2</th>\n",
              "      <td>3</td>\n",
              "      <td>B000LQOCH0</td>\n",
              "      <td>ABXLMWJIXXAIN</td>\n",
              "      <td>Natalia Corres \"Natalia Corres\"</td>\n",
              "      <td>1</td>\n",
              "      <td>1</td>\n",
              "      <td>1</td>\n",
              "      <td>1219017600</td>\n",
              "      <td>\"Delight\" says it all</td>\n",
              "      <td>This is a confection that has been around a fe...</td>\n",
              "      <td>2008-08-18</td>\n",
              "    </tr>\n",
              "  </tbody>\n",
              "</table>\n",
              "</div>"
            ],
            "text/plain": [
              "   Id   ProductId  ...                                               Text       date\n",
              "0   1  B001E4KFG0  ...  I have bought several of the Vitality canned d... 2011-04-27\n",
              "1   2  B00813GRG4  ...  Product arrived labeled as Jumbo Salted Peanut... 2012-09-07\n",
              "2   3  B000LQOCH0  ...  This is a confection that has been around a fe... 2008-08-18\n",
              "\n",
              "[3 rows x 11 columns]"
            ]
          },
          "metadata": {
            "tags": []
          },
          "execution_count": 14
        }
      ]
    },
    {
      "cell_type": "code",
      "metadata": {
        "id": "l9x6fAO5cfo9",
        "colab": {
          "base_uri": "https://localhost:8080/",
          "height": 404
        },
        "outputId": "2806dce8-6c99-4352-b2a4-8138d4163cfc"
      },
      "source": [
        "plt.figure(figsize=(8,6))\n",
        "sns.countplot(df['Score'])\n",
        "plt.title('Target')\n",
        "plt.show()"
      ],
      "execution_count": null,
      "outputs": [
        {
          "output_type": "display_data",
          "data": {
            "image/png": "[encoded data removed]",
            "text/plain": [
              "<Figure size 576x432 with 1 Axes>"
            ]
          },
          "metadata": {
            "tags": [],
            "needs_background": "light"
          }
        }
      ]
    },
    {
      "cell_type": "markdown",
      "metadata": {
        "id": "RZo4sdWXeqhf"
      },
      "source": [
        "**Observation:** It is clear that we have an imbalenced dataset for classification. So We cannot choose accuracy as a metric. So here we will go with AUC(Area under ROC curve)\n",
        "\n",
        "> Why accuracy not for imbalanced datasets? <br>\n",
        "\n",
        "Consider a scenario like this where we have imbalenced dataset. For example consider case of credit card fraud detection with 98% percentage of points as non-fraud(1) and rest 2% points as fraud(1). In such cases even if we predict all the points as non-fraud also we will get 98% accuracy. But actually it is not the case. So we can't use accuracy as a metric. <br>\n",
        "\n",
        "> What is AUC ROC?\n",
        "\n",
        "AUC is the area under ROC curve.It tells how much model is capable of distinguishing between classes. Higher the AUC, better the model is at predicting 0s as 0s and 1s as 1s. The ROC curve is plotted with TPR against the FPR where TPR is on y-axis and FPR is on the x-axis.\n"
      ]
    },
    {
      "cell_type": "markdown",
      "metadata": {
        "id": "IhrlknBagnCg"
      },
      "source": [
        "## Analysis On ProductId and UserId"
      ]
    },
    {
      "cell_type": "code",
      "metadata": {
        "id": "sz-Frv2mdPCb",
        "colab": {
          "base_uri": "https://localhost:8080/",
          "height": 112
        },
        "outputId": "4fe23834-c261-4e74-e086-1f2ec341e08d"
      },
      "source": [
        "# we will see the products brought by each customer\n",
        "\n",
        "purchases = df[['ProductId','UserId']].groupby('UserId').agg({'ProductId': ['count']})\n",
        "purchases.columns = ['No_of_products_purchased']\n",
        "purchases = purchases.reset_index()\n",
        "purchases.head(2)"
      ],
      "execution_count": null,
      "outputs": [
        {
          "output_type": "execute_result",
          "data": {
            "text/html": [
              "<div>\n",
              "<style scoped>\n",
              "    .dataframe tbody tr th:only-of-type {\n",
              "        vertical-align: middle;\n",
              "    }\n",
              "\n",
              "    .dataframe tbody tr th {\n",
              "        vertical-align: top;\n",
              "    }\n",
              "\n",
              "    .dataframe thead th {\n",
              "        text-align: right;\n",
              "    }\n",
              "</style>\n",
              "<table border=\"1\" class=\"dataframe\">\n",
              "  <thead>\n",
              "    <tr style=\"text-align: right;\">\n",
              "      <th></th>\n",
              "      <th>UserId</th>\n",
              "      <th>No_of_products_purchased</th>\n",
              "    </tr>\n",
              "  </thead>\n",
              "  <tbody>\n",
              "    <tr>\n",
              "      <th>0</th>\n",
              "      <td>#oc-R103C0QSV1DF5E</td>\n",
              "      <td>1</td>\n",
              "    </tr>\n",
              "    <tr>\n",
              "      <th>1</th>\n",
              "      <td>#oc-R109MU5OBBZ59U</td>\n",
              "      <td>1</td>\n",
              "    </tr>\n",
              "  </tbody>\n",
              "</table>\n",
              "</div>"
            ],
            "text/plain": [
              "               UserId  No_of_products_purchased\n",
              "0  #oc-R103C0QSV1DF5E                         1\n",
              "1  #oc-R109MU5OBBZ59U                         1"
            ]
          },
          "metadata": {
            "tags": []
          },
          "execution_count": 20
        }
      ]
    },
    {
      "cell_type": "code",
      "metadata": {
        "id": "dM1fslsMkA-Q",
        "colab": {
          "base_uri": "https://localhost:8080/",
          "height": 490
        },
        "outputId": "16a54087-a11e-457f-97e7-c099b56cf799"
      },
      "source": [
        "plt.figure(figsize=(5,5))\n",
        "purchases['No_of_products_purchased'].hist()\n",
        "plt.xlabel('No of purchases')\n",
        "plt.ylabel('No of users')\n",
        "plt.show()\n",
        "print(purchases['No_of_products_purchased'].describe())"
      ],
      "execution_count": null,
      "outputs": [
        {
          "output_type": "display_data",
          "data": {
            "image/png": "[encoded data removed]",
            "text/plain": [
              "<Figure size 360x360 with 1 Axes>"
            ]
          },
          "metadata": {
            "tags": [],
            "needs_background": "light"
          }
        },
        {
          "output_type": "stream",
          "text": [
            "count    243412.000000\n",
            "mean          1.496081\n",
            "std           2.537677\n",
            "min           1.000000\n",
            "25%           1.000000\n",
            "50%           1.000000\n",
            "75%           1.000000\n",
            "max         310.000000\n",
            "Name: No_of_products_purchased, dtype: float64\n"
          ],
          "name": "stdout"
        }
      ]
    },
    {
      "cell_type": "markdown",
      "metadata": {
        "id": "9ywyvh-vj2cO"
      },
      "source": [
        "We can see that majority of the users purchased only 1 product. Maximum number of product purchased by a single user is 310"
      ]
    },
    {
      "cell_type": "markdown",
      "metadata": {
        "id": "fwyFLroyk5EG"
      },
      "source": [
        "## Analysis on HelpfulnessNumerator and HelpfulnessDenominator"
      ]
    },
    {
      "cell_type": "markdown",
      "metadata": {
        "id": "umZOTFnplM5L"
      },
      "source": [
        "* Helpfulness Numerator: Number of users who found the review helpful\n",
        "* Helpfulness Denominator: Number of users who indicated whether they found the review helpful or not\n"
      ]
    },
    {
      "cell_type": "code",
      "metadata": {
        "id": "y7xhF1awkNVB",
        "colab": {
          "base_uri": "https://localhost:8080/",
          "height": 341
        },
        "outputId": "8d305fd2-853e-4096-a350-ce21626dd62d"
      },
      "source": [
        "df[df['HelpfulnessNumerator'] > df['HelpfulnessDenominator']]\n"
      ],
      "execution_count": null,
      "outputs": [
        {
          "output_type": "execute_result",
          "data": {
            "text/html": [
              "<div>\n",
              "<style scoped>\n",
              "    .dataframe tbody tr th:only-of-type {\n",
              "        vertical-align: middle;\n",
              "    }\n",
              "\n",
              "    .dataframe tbody tr th {\n",
              "        vertical-align: top;\n",
              "    }\n",
              "\n",
              "    .dataframe thead th {\n",
              "        text-align: right;\n",
              "    }\n",
              "</style>\n",
              "<table border=\"1\" class=\"dataframe\">\n",
              "  <thead>\n",
              "    <tr style=\"text-align: right;\">\n",
              "      <th></th>\n",
              "      <th>Id</th>\n",
              "      <th>ProductId</th>\n",
              "      <th>UserId</th>\n",
              "      <th>ProfileName</th>\n",
              "      <th>HelpfulnessNumerator</th>\n",
              "      <th>HelpfulnessDenominator</th>\n",
              "      <th>Score</th>\n",
              "      <th>Time</th>\n",
              "      <th>Summary</th>\n",
              "      <th>Text</th>\n",
              "      <th>date</th>\n",
              "    </tr>\n",
              "  </thead>\n",
              "  <tbody>\n",
              "    <tr>\n",
              "      <th>44736</th>\n",
              "      <td>44737</td>\n",
              "      <td>B001EQ55RW</td>\n",
              "      <td>A2V0I904FH7ABY</td>\n",
              "      <td>Ram</td>\n",
              "      <td>3</td>\n",
              "      <td>2</td>\n",
              "      <td>1</td>\n",
              "      <td>1212883200</td>\n",
              "      <td>Pure cocoa taste with crunchy almonds inside</td>\n",
              "      <td>It was almost a 'love at first bite' - the per...</td>\n",
              "      <td>2008-06-08</td>\n",
              "    </tr>\n",
              "    <tr>\n",
              "      <th>64421</th>\n",
              "      <td>64422</td>\n",
              "      <td>B000MIDROQ</td>\n",
              "      <td>A161DK06JJMCYF</td>\n",
              "      <td>J. E. Stephens \"Jeanne\"</td>\n",
              "      <td>3</td>\n",
              "      <td>1</td>\n",
              "      <td>1</td>\n",
              "      <td>1224892800</td>\n",
              "      <td>Bought This for My Son at College</td>\n",
              "      <td>My son loves spaghetti so I didn't hesitate or...</td>\n",
              "      <td>2008-10-25</td>\n",
              "    </tr>\n",
              "  </tbody>\n",
              "</table>\n",
              "</div>"
            ],
            "text/plain": [
              "          Id  ...       date\n",
              "44736  44737  ... 2008-06-08\n",
              "64421  64422  ... 2008-10-25\n",
              "\n",
              "[2 rows x 11 columns]"
            ]
          },
          "metadata": {
            "tags": []
          },
          "execution_count": 21
        }
      ]
    },
    {
      "cell_type": "markdown",
      "metadata": {
        "id": "xpRRoxk3laSN"
      },
      "source": [
        "It was also seen that in two rows given below the value of HelpfulnessNumerator is greater than HelpfulnessDenominator which is not practically possible hence these two rows too are removed from calcualtions"
      ]
    },
    {
      "cell_type": "code",
      "metadata": {
        "id": "TlRyJO_IlamW",
        "colab": {
          "base_uri": "https://localhost:8080/",
          "height": 34
        },
        "outputId": "d15d3e5a-b45a-4d98-9019-1135251a781b"
      },
      "source": [
        "df = df[df['HelpfulnessNumerator'] <= df['HelpfulnessDenominator']]\n",
        "df.shape"
      ],
      "execution_count": null,
      "outputs": [
        {
          "output_type": "execute_result",
          "data": {
            "text/plain": [
              "(364162, 11)"
            ]
          },
          "metadata": {
            "tags": []
          },
          "execution_count": 22
        }
      ]
    },
    {
      "cell_type": "code",
      "metadata": {
        "id": "9TPw9hsSWJLH",
        "colab": {
          "base_uri": "https://localhost:8080/",
          "height": 34
        },
        "outputId": "71fe6627-280d-4fdc-9db3-eb67604803f7"
      },
      "source": [
        "#Checking to see how much % of data still remains\n",
        "print(f'Remaining data is {((df.shape[0]*1.0)/(data.shape[0]*1.0))*100}')"
      ],
      "execution_count": null,
      "outputs": [
        {
          "output_type": "stream",
          "text": [
            "Remaining data is 64.06182382391539\n"
          ],
          "name": "stdout"
        }
      ]
    },
    {
      "cell_type": "markdown",
      "metadata": {
        "id": "u2Kzf5ermOvH"
      },
      "source": [
        "## Preprocessing Text data\n",
        "\n",
        "Now that we have finished deduplication our data requires some preprocessing before we go on further with analysis and making the prediction model.\n",
        "\n",
        "Hence in the Preprocessing phase we do the following in the order below:-\n",
        "\n",
        "\n",
        "\n",
        "1. Begin by removing the html tags\n",
        "2. Remove any punctuations or limited set of special characters like , or . or # etc.\n",
        "3. Check if the word is made up of english letters and is not alpha-numeric\n",
        "4. Check to see if the length of the word is greater than 2 (as it was researched that there is no adjective in 2-letters)\n",
        "5. Convert the word to lowercase\n",
        "6. Remove Stopwords\n",
        "<!-- 7. Finally Snowball Stemming the word (it was obsereved to be better than Porter Stemming) -->\n",
        "\n",
        "\n",
        "\n",
        "\n"
      ]
    },
    {
      "cell_type": "code",
      "metadata": {
        "id": "CN1Lcww2BbaS"
      },
      "source": [
        "# df['text'] = df['Summary'] + df['Text']\n",
        "df['text'] = df['Text']"
      ],
      "execution_count": null,
      "outputs": []
    },
    {
      "cell_type": "code",
      "metadata": {
        "id": "KJecP6zPmGgj",
        "colab": {
          "base_uri": "https://localhost:8080/",
          "height": 34
        },
        "outputId": "332147d1-7cbb-45f5-89b9-7f063fb618ab"
      },
      "source": [
        "# replacing some phrases like won't with will not\n",
        "\n",
        "def decontracted(phrase):\n",
        "    # specific\n",
        "    phrase = re.sub(r\"won't\", \"will not\", phrase)\n",
        "    phrase = re.sub(r\"can\\'t\", \"can not\", phrase)\n",
        "\n",
        "    # general\n",
        "    phrase = re.sub(r\"n\\'t\", \" not\", phrase)\n",
        "    phrase = re.sub(r\"\\'re\", \" are\", phrase)\n",
        "    phrase = re.sub(r\"\\'s\", \" is\", phrase)\n",
        "    phrase = re.sub(r\"\\'d\", \" would\", phrase)\n",
        "    phrase = re.sub(r\"\\'ll\", \" will\", phrase)\n",
        "    phrase = re.sub(r\"\\'t\", \" not\", phrase)\n",
        "    phrase = re.sub(r\"\\'ve\", \" have\", phrase)\n",
        "    phrase = re.sub(r\"\\'m\", \" am\", phrase)\n",
        "    return phrase\n",
        "\n",
        "\n",
        "stopwords= set(['br', 'the', 'i', 'me', 'my', 'myself', 'we', 'our', 'ours', 'ourselves', 'you', \"you're\", \"you've\",\\\n",
        "            \"you'll\", \"you'd\", 'your', 'yours', 'yourself', 'yourselves', 'he', 'him', 'his', 'himself', \\\n",
        "            'she', \"she's\", 'her', 'hers', 'herself', 'it', \"it's\", 'its', 'itself', 'they', 'them', 'their',\\\n",
        "            'theirs', 'themselves', 'what', 'which', 'who', 'whom', 'this', 'that', \"that'll\", 'these', 'those', \\\n",
        "            'am', 'is', 'are', 'was', 'were', 'be', 'been', 'being', 'have', 'has', 'had', 'having', 'do', 'does', \\\n",
        "            'did', 'doing', 'a', 'an', 'the', 'and', 'but', 'if', 'or', 'because', 'as', 'until', 'while', 'of', \\\n",
        "            'at', 'by', 'for', 'with', 'about', 'against', 'between', 'into', 'through', 'during', 'before', 'after',\\\n",
        "            'above', 'below', 'to', 'from', 'up', 'down', 'in', 'out', 'on', 'off', 'over', 'under', 'again', 'further',\\\n",
        "            'then', 'once', 'here', 'there', 'when', 'where', 'why', 'how', 'all', 'any', 'both', 'each', 'few', 'more',\\\n",
        "            'most', 'other', 'some', 'such', 'only', 'own', 'same', 'so', 'than', 'too', 'very', \\\n",
        "            's', 't', 'can', 'will', 'just', 'don', \"don't\", 'should', \"should've\", 'now', 'd', 'll', 'm', 'o', 're', \\\n",
        "            've', 'y', 'ain', 'aren', \"aren't\", 'couldn', \"couldn't\", 'didn', \"didn't\", 'doesn', \"doesn't\", 'hadn',\\\n",
        "            \"hadn't\", 'hasn', \"hasn't\", 'haven', \"haven't\", 'isn', \"isn't\", 'ma', 'mightn', \"mightn't\", 'mustn',\\\n",
        "            \"mustn't\", 'needn', \"needn't\", 'shan', \"shan't\", 'shouldn', \"shouldn't\", 'wasn', \"wasn't\", 'weren', \"weren't\", \\\n",
        "            'won', \"won't\", 'wouldn', \"wouldn't\"])\n",
        "\n",
        "\n",
        "\n",
        "preprocessed_reviews = []\n",
        "# tqdm is for printing the status bar\n",
        "for sentance in tqdm(df['text'].values):\n",
        "    sentance = re.sub(r\"http\\S+\", \"\", sentance)\n",
        "    # removing html tags\n",
        "    sentance = BeautifulSoup(sentance, 'lxml').get_text()\n",
        "    sentance = decontracted(sentance)\n",
        "    # removing extra spaces and numbers\n",
        "    sentance = re.sub(\"\\S*\\d\\S*\", \"\", sentance).strip()\n",
        "    # removing non alphabels\n",
        "    sentance = re.sub('[^A-Za-z]+', ' ', sentance)\n",
        "    # https://gist.github.com/sebleier/554280\n",
        "    sentance = ' '.join(e.lower() for e in sentance.split() if e.lower() not in stopwords)\n",
        "    preprocessed_reviews.append(sentance.strip())\n"
      ],
      "execution_count": null,
      "outputs": [
        {
          "output_type": "stream",
          "text": [
            "100%|██████████| 364162/364162 [02:39<00:00, 2288.48it/s]\n"
          ],
          "name": "stderr"
        }
      ]
    },
    {
      "cell_type": "code",
      "metadata": {
        "id": "QOFa1Wp5mM1x"
      },
      "source": [
        "#combining required columns\n",
        "df['clean_text'] = preprocessed_reviews\n",
        "df = df[['Time','clean_text','Score']]\n",
        "#reseting index\n",
        "df = df.reset_index(drop=True)\n",
        "#saving processed file\n",
        "df.to_csv('processed_df.csv',index=False)"
      ],
      "execution_count": null,
      "outputs": []
    },
    {
      "cell_type": "markdown",
      "metadata": {
        "id": "ae9BqOxx5KZ0"
      },
      "source": [
        "Reading Processed file"
      ]
    },
    {
      "cell_type": "code",
      "metadata": {
        "id": "a4gyoV9zl-h4",
        "colab": {
          "base_uri": "https://localhost:8080/",
          "height": 221
        },
        "outputId": "591362ae-461f-460c-fea4-8866d1b8df3e"
      },
      "source": [
        "df = pd.read_csv('processed_df.csv')\n",
        "print(df.shape)\n",
        "df.head()"
      ],
      "execution_count": null,
      "outputs": [
        {
          "output_type": "stream",
          "text": [
            "(364162, 3)\n"
          ],
          "name": "stdout"
        },
        {
          "output_type": "execute_result",
          "data": {
            "text/html": [
              "<div>\n",
              "<style scoped>\n",
              "    .dataframe tbody tr th:only-of-type {\n",
              "        vertical-align: middle;\n",
              "    }\n",
              "\n",
              "    .dataframe tbody tr th {\n",
              "        vertical-align: top;\n",
              "    }\n",
              "\n",
              "    .dataframe thead th {\n",
              "        text-align: right;\n",
              "    }\n",
              "</style>\n",
              "<table border=\"1\" class=\"dataframe\">\n",
              "  <thead>\n",
              "    <tr style=\"text-align: right;\">\n",
              "      <th></th>\n",
              "      <th>Time</th>\n",
              "      <th>clean_text</th>\n",
              "      <th>Score</th>\n",
              "    </tr>\n",
              "  </thead>\n",
              "  <tbody>\n",
              "    <tr>\n",
              "      <th>0</th>\n",
              "      <td>1303862400</td>\n",
              "      <td>bought several vitality canned dog food produc...</td>\n",
              "      <td>1</td>\n",
              "    </tr>\n",
              "    <tr>\n",
              "      <th>1</th>\n",
              "      <td>1346976000</td>\n",
              "      <td>product arrived labeled jumbo salted peanuts p...</td>\n",
              "      <td>0</td>\n",
              "    </tr>\n",
              "    <tr>\n",
              "      <th>2</th>\n",
              "      <td>1219017600</td>\n",
              "      <td>confection around centuries light pillowy citr...</td>\n",
              "      <td>1</td>\n",
              "    </tr>\n",
              "    <tr>\n",
              "      <th>3</th>\n",
              "      <td>1307923200</td>\n",
              "      <td>looking secret ingredient robitussin believe f...</td>\n",
              "      <td>0</td>\n",
              "    </tr>\n",
              "    <tr>\n",
              "      <th>4</th>\n",
              "      <td>1350777600</td>\n",
              "      <td>great taffy great price wide assortment yummy ...</td>\n",
              "      <td>1</td>\n",
              "    </tr>\n",
              "  </tbody>\n",
              "</table>\n",
              "</div>"
            ],
            "text/plain": [
              "         Time                                         clean_text  Score\n",
              "0  1303862400  bought several vitality canned dog food produc...      1\n",
              "1  1346976000  product arrived labeled jumbo salted peanuts p...      0\n",
              "2  1219017600  confection around centuries light pillowy citr...      1\n",
              "3  1307923200  looking secret ingredient robitussin believe f...      0\n",
              "4  1350777600  great taffy great price wide assortment yummy ...      1"
            ]
          },
          "metadata": {
            "tags": []
          },
          "execution_count": 4
        }
      ]
    },
    {
      "cell_type": "code",
      "metadata": {
        "id": "_KfqCKTK3BGO",
        "colab": {
          "base_uri": "https://localhost:8080/",
          "height": 187
        },
        "outputId": "7d0887d9-725b-4f2c-e247-b8476942e9d5"
      },
      "source": [
        "df.info()"
      ],
      "execution_count": null,
      "outputs": [
        {
          "output_type": "stream",
          "text": [
            "<class 'pandas.core.frame.DataFrame'>\n",
            "RangeIndex: 364162 entries, 0 to 364161\n",
            "Data columns (total 3 columns):\n",
            " #   Column      Non-Null Count   Dtype \n",
            "---  ------      --------------   ----- \n",
            " 0   Time        364162 non-null  int64 \n",
            " 1   clean_text  363184 non-null  object\n",
            " 2   Score       364162 non-null  int64 \n",
            "dtypes: int64(2), object(1)\n",
            "memory usage: 8.3+ MB\n"
          ],
          "name": "stdout"
        }
      ]
    },
    {
      "cell_type": "code",
      "metadata": {
        "id": "2aHvKqz13E_9",
        "colab": {
          "base_uri": "https://localhost:8080/",
          "height": 34
        },
        "outputId": "a72eea27-227a-4f28-d65a-fb14f00ca0aa"
      },
      "source": [
        "#one row is empty.we will drop it\n",
        "df = df.dropna(axis=0)\n",
        "df.shape"
      ],
      "execution_count": null,
      "outputs": [
        {
          "output_type": "execute_result",
          "data": {
            "text/plain": [
              "(363184, 3)"
            ]
          },
          "metadata": {
            "tags": []
          },
          "execution_count": 6
        }
      ]
    },
    {
      "cell_type": "markdown",
      "metadata": {
        "id": "Wn5rUeR5mFoP"
      },
      "source": [
        " We are considering time beacuse our reviews are developed over time.So splitting based on that makes more sense"
      ]
    },
    {
      "cell_type": "code",
      "metadata": {
        "id": "18tHigqrmrc5"
      },
      "source": [
        "#sampling 100k points \n",
        "df = df.sample(100000,random_state=100)"
      ],
      "execution_count": null,
      "outputs": []
    },
    {
      "cell_type": "code",
      "metadata": {
        "id": "quq_hjaP2iVI"
      },
      "source": [
        "#sortimg based on time\n",
        "df['Time'] = pd.to_datetime(df['Time'],unit='s')\n",
        "df = df.sort_values('Time')\n",
        "df = df.reset_index(drop=True)"
      ],
      "execution_count": null,
      "outputs": []
    },
    {
      "cell_type": "markdown",
      "metadata": {
        "id": "SOYqpdEimgb2"
      },
      "source": [
        "Now we will split the data to train,cv and test"
      ]
    },
    {
      "cell_type": "code",
      "metadata": {
        "id": "_55qWPv1m8Ci",
        "colab": {
          "base_uri": "https://localhost:8080/",
          "height": 85
        },
        "outputId": "d373fc44-a265-4320-bec0-d4efeadf93cf"
      },
      "source": [
        "#splitting data to train.cv and test\n",
        "from sklearn.model_selection import train_test_split\n",
        "x = df['clean_text']\n",
        "y = df['Score']\n",
        "X_train,X_test,y_train,y_test = train_test_split(x,y,test_size=0.3,stratify=y,random_state=100)\n",
        "# X_tr,X_cv,y_tr,y_cv = train_test_split(X_train,y_train,test_size=0.3,stratify=y_train,random_state=100)\n",
        "print(f'shape of X_train is {X_train.shape}')\n",
        "print(f'shape of X_test is {X_test.shape}')\n",
        "print(f'shape of y_train is {y_train.shape}')\n",
        "print(f'shape of y_test is {y_test.shape}')"
      ],
      "execution_count": null,
      "outputs": [
        {
          "output_type": "stream",
          "text": [
            "shape of X_train is (70000,)\n",
            "shape of X_test is (30000,)\n",
            "shape of y_train is (70000,)\n",
            "shape of y_test is (30000,)\n"
          ],
          "name": "stdout"
        }
      ]
    },
    {
      "cell_type": "code",
      "metadata": {
        "id": "97Oo-HPy6IBm"
      },
      "source": [
        "np.save('saved_feats/X_train', X_train)\n",
        "np.save('saved_feats/y_train', y_train)\n",
        "np.save('saved_feats/X_test', X_test)\n",
        "np.save('saved_feats/y_test', y_test)\n"
      ],
      "execution_count": null,
      "outputs": []
    },
    {
      "cell_type": "markdown",
      "metadata": {
        "id": "qBDe3vCTnQCk"
      },
      "source": [
        "# Bag of Words"
      ]
    },
    {
      "cell_type": "code",
      "metadata": {
        "id": "8AFbrmJFmmQI",
        "colab": {
          "base_uri": "https://localhost:8080/",
          "height": 51
        },
        "outputId": "3119c989-16ff-480f-f350-366aa736fd9d"
      },
      "source": [
        "bow = CountVectorizer()\n",
        "bow.fit(X_train)\n",
        "X_train_bow = bow.transform(X_train)\n",
        "X_test_bow = bow.transform(X_test)\n",
        "bow_features = bow.get_feature_names()\n",
        "\n",
        "print('shape of X_train_bow is {}'.format(X_train_bow.get_shape()))\n",
        "print('shape of X_test_bow is {}'.format(X_test_bow.get_shape()))"
      ],
      "execution_count": null,
      "outputs": [
        {
          "output_type": "stream",
          "text": [
            "shape of X_train_bow is (70000, 51038)\n",
            "shape of X_test_bow is (30000, 51038)\n"
          ],
          "name": "stdout"
        }
      ]
    },
    {
      "cell_type": "code",
      "metadata": {
        "id": "Sg_Jf4_H3rUj"
      },
      "source": [
        "#saving bow vectors\n",
        "import pickle\n",
        "pickle.dump(X_train_bow, open(\"saved_feats/X_train_bow\",\"wb\"))\n",
        "pickle.dump(X_test_bow, open(\"saved_feats/X_test_bow\",\"wb\"))\n",
        "pickle.dump(np.array(bow_features), open(\"saved_feats/bow_features\",\"wb\"))"
      ],
      "execution_count": null,
      "outputs": []
    },
    {
      "cell_type": "markdown",
      "metadata": {
        "id": "4_C5rWBDn7wO"
      },
      "source": [
        "# Tfidf"
      ]
    },
    {
      "cell_type": "code",
      "metadata": {
        "id": "NwL0TRibnYqr"
      },
      "source": [
        "#applying bow on x_train and x_test\n",
        "vectorizer = TfidfVectorizer()\n",
        "vectorizer.fit(X_train)\n",
        "tfidf_features = vectorizer.get_feature_names()\n",
        "# we use the fitted CountVectorizer to convert the text to vector\n",
        "X_train_tfidf = vectorizer.transform(X_train)\n",
        "X_test_tfidf = vectorizer.transform(X_test)"
      ],
      "execution_count": null,
      "outputs": []
    },
    {
      "cell_type": "code",
      "metadata": {
        "id": "MzKajhaL5kCN"
      },
      "source": [
        "#saving tfidf vectors\n",
        "pickle.dump(X_train_tfidf, open(\"saved_feats/X_train_tfidf\",\"wb\"))\n",
        "pickle.dump(X_test_tfidf, open(\"saved_feats/X_test_tfidf\",\"wb\"))\n",
        "pickle.dump(np.array(tfidf_features), open(\"saved_feats/tfidf_features\",\"wb\"))"
      ],
      "execution_count": null,
      "outputs": []
    },
    {
      "cell_type": "markdown",
      "metadata": {
        "id": "HoK7lbmdomBJ"
      },
      "source": [
        "# Word2vec\n",
        "\n"
      ]
    },
    {
      "cell_type": "code",
      "metadata": {
        "id": "hfMVgvEiygg0"
      },
      "source": [
        "preprocessed_reviews = X_train.values\n",
        "train_sentence = [rev.split() for rev in preprocessed_reviews]\n",
        "# min_count = 5 considers only words that occured atleast 5 times\n",
        "# size = length of vector\n",
        "w2v_model_train = Word2Vec(train_sentence,min_count=5,size=50, workers=4)\n",
        "w2v_words = list(w2v_model_train.wv.vocab)\n"
      ],
      "execution_count": null,
      "outputs": []
    },
    {
      "cell_type": "code",
      "metadata": {
        "id": "P3DZCvlk6Ah4"
      },
      "source": [
        "pickle.dump(np.array(w2v_words),open(\"saved_feats/w2v_words\",\"wb\"))"
      ],
      "execution_count": null,
      "outputs": []
    },
    {
      "cell_type": "markdown",
      "metadata": {
        "id": "Bk3gBvA-0KVC"
      },
      "source": [
        "# Average Word2vec"
      ]
    },
    {
      "cell_type": "code",
      "metadata": {
        "id": "f_ALlkXJok0H",
        "colab": {
          "base_uri": "https://localhost:8080/",
          "height": 119
        },
        "outputId": "69a26d43-c47a-45de-f81a-3e847e3db3ce"
      },
      "source": [
        "train_reviews = X_train.values\n",
        "train_sentence = [rev.split() for rev in train_reviews]\n",
        "\n",
        "sent_vectors_train = []\n",
        "for sent in tqdm(train_sentence):\n",
        "    sent_vec = np.zeros(50)\n",
        "    cnt_words = 0\n",
        "    for word in sent:\n",
        "        if word in w2v_words:\n",
        "            vector = w2v_model_train.wv[word]\n",
        "            sent_vec += vector\n",
        "            cnt_words += 1\n",
        "    if cnt_words != 0:\n",
        "        sent_vec /= cnt_words\n",
        "    sent_vectors_train.append(sent_vec)\n",
        "\n",
        "print(len(sent_vectors_train))\n",
        "print(len(sent_vectors_train[0]))\n",
        "\n",
        "########################################################\n",
        "test_reviews = X_test.values\n",
        "test_sentence = [rev.split() for rev in test_reviews]\n",
        "\n",
        "sent_vectors_test = []\n",
        "for sent in tqdm(test_sentence):\n",
        "    count = 0\n",
        "    sent_vec = np.zeros(50)\n",
        "    for word in sent:\n",
        "        if word in w2v_words:\n",
        "            vector = w2v_model_train.wv[word]\n",
        "            sent_vec += vector\n",
        "            count += 1\n",
        "            \n",
        "    if count != 0:\n",
        "        sent_vec /= count\n",
        "    sent_vectors_test.append(sent_vec)\n",
        "\n",
        "print(len(sent_vectors_test))\n",
        "print(len(sent_vectors_test[0]))"
      ],
      "execution_count": null,
      "outputs": [
        {
          "output_type": "stream",
          "text": [
            "100%|██████████| 70000/70000 [02:04<00:00, 561.96it/s]\n",
            "  0%|          | 51/30000 [00:00<00:58, 509.67it/s]"
          ],
          "name": "stderr"
        },
        {
          "output_type": "stream",
          "text": [
            "70000\n",
            "50\n"
          ],
          "name": "stdout"
        },
        {
          "output_type": "stream",
          "text": [
            "100%|██████████| 30000/30000 [00:54<00:00, 555.37it/s]"
          ],
          "name": "stderr"
        },
        {
          "output_type": "stream",
          "text": [
            "30000\n",
            "50\n"
          ],
          "name": "stdout"
        },
        {
          "output_type": "stream",
          "text": [
            "\n"
          ],
          "name": "stderr"
        }
      ]
    },
    {
      "cell_type": "code",
      "metadata": {
        "id": "uB2SzuVPytFf"
      },
      "source": [
        "X_train_avgw2v = np.array(sent_vectors_train)\n",
        "X_test_avgw2v = np.array(sent_vectors_test)\n",
        "\n",
        "pickle.dump(np.array(X_train_avgw2v), open(\"saved_feats/X_train_avgw2v\",\"wb\"))\n",
        "pickle.dump(np.array(X_test_avgw2v), open(\"saved_feats/X_test_avgw2v\",\"wb\"))\n",
        "\n"
      ],
      "execution_count": null,
      "outputs": []
    },
    {
      "cell_type": "markdown",
      "metadata": {
        "id": "8yN_PBsW0ZOY"
      },
      "source": [
        "# Tfidf Word2Vec"
      ]
    },
    {
      "cell_type": "code",
      "metadata": {
        "id": "xuBtyLO70QDD"
      },
      "source": [
        "\n",
        "\n",
        "w2v_words = pickle.load(open(\"saved_feats/w2v_words\",\"rb\")).tolist()\n",
        "tfidf = TfidfVectorizer()\n",
        "tfidf.fit(X_train)\n",
        "dictionary = dict(zip(tfidf.get_feature_names(), list(tfidf.idf_)))\n",
        "tfidf_feats = tfidf.get_feature_names()\n",
        "\n",
        "#saving\n",
        "pickle.dump(tfidf_feats, open(\"saved_feats/tfidf_feats_w2v\",\"wb\"))\n"
      ],
      "execution_count": null,
      "outputs": []
    },
    {
      "cell_type": "code",
      "metadata": {
        "id": "UKp8qvD4Vc83",
        "colab": {
          "base_uri": "https://localhost:8080/",
          "height": 204
        },
        "outputId": "3d088f56-775b-41b8-adc0-7ef9864b4bea"
      },
      "source": [
        "train_reviews = X_train.values\n",
        "train_sentence = [rev.split() for rev in train_reviews]\n",
        "sent_vectors_train = []\n",
        "for sent in tqdm(train_sentence):\n",
        "    sent_vec = np.zeros(50)\n",
        "    weight_sum = 0\n",
        "    for word in sent:\n",
        "        if word in tfidf_feats and word in w2v_words:\n",
        "            vec = w2v_model_train.wv[word]\n",
        "            # tf * idf\n",
        "            tfidf_value = (sent.count(word)/len(sent)) * dictionary[word] \n",
        "            vec = vec * tfidf_value\n",
        "            sent_vec += vec\n",
        "            weight_sum += tfidf_value\n",
        "    if weight_sum != 0:\n",
        "        sent_vec /= weight_sum\n",
        "    sent_vectors_train.append(sent_vec)\n",
        "print(len(sent_vectors_train))\n",
        "print(sent_vectors_train[0])\n",
        "X_train_tfw2v = sent_vectors_train\n",
        "\n",
        "pickle.dump(np.array(X_train_tfw2v), open(\"saved_feats/X_train_tfw2v\",\"wb\"))"
      ],
      "execution_count": null,
      "outputs": [
        {
          "output_type": "stream",
          "text": [
            "100%|██████████| 70000/70000 [26:22<00:00, 44.23it/s]\n"
          ],
          "name": "stderr"
        },
        {
          "output_type": "stream",
          "text": [
            "70000\n",
            "[ 0.58852566 -0.14504878 -0.08189659 -0.55538212 -0.10965156  0.57289314\n",
            " -0.6463609  -1.57068631  0.17610996 -0.54203487  1.30474104 -0.56435649\n",
            "  1.15296988  1.69737555  0.83967908  1.82923313 -0.70703604  0.13471628\n",
            "  0.08083214 -0.77296371 -1.21259213 -1.07761326  0.21765423 -0.33065811\n",
            "  0.08837798  0.32674941  0.33328268 -0.13033061  0.21215169  1.28758244\n",
            " -0.32904252  0.12981891 -0.73704851  1.04464942  0.61967336  0.58958777\n",
            "  0.9508683   0.04209961 -0.05918515  0.16966771  1.03845286 -0.68942989\n",
            " -1.11771285  1.0964333   1.26746402  1.0538764  -0.1432131   0.111346\n",
            "  0.49083798  0.12901925]\n"
          ],
          "name": "stdout"
        }
      ]
    },
    {
      "cell_type": "code",
      "metadata": {
        "id": "EFUBeYSz0bl6",
        "colab": {
          "base_uri": "https://localhost:8080/",
          "height": 204
        },
        "outputId": "f277df47-4faf-4d7f-89da-b076d9259913"
      },
      "source": [
        "test_reviews = X_test.values\n",
        "test_sentence = [rev.split() for rev in test_reviews]\n",
        "sent_vectors_test = []\n",
        "for sent in tqdm(test_sentence):\n",
        "    sent_vec = np.zeros(50)\n",
        "    weight_sum = 0\n",
        "    for word in sent:\n",
        "        if word in tfidf_feats and word in w2v_words:\n",
        "            vec = w2v_model_train.wv[word]\n",
        "            # tf * idf\n",
        "            tfidf_value = (sent.count(word)/len(sent)) * dictionary[word] \n",
        "            vec = vec * tfidf_value\n",
        "            sent_vec += vec\n",
        "            weight_sum += tfidf_value\n",
        "    if weight_sum != 0:\n",
        "        sent_vec /= weight_sum\n",
        "    sent_vectors_test.append(sent_vec)\n",
        "print(len(sent_vectors_test))\n",
        "print(sent_vectors_test[0])   "
      ],
      "execution_count": null,
      "outputs": [
        {
          "output_type": "stream",
          "text": [
            "100%|██████████| 30000/30000 [11:03<00:00, 45.19it/s]"
          ],
          "name": "stderr"
        },
        {
          "output_type": "stream",
          "text": [
            "30000\n",
            "[-0.40509951 -0.37584518 -0.21359617  0.71815309  0.37926    -0.55179429\n",
            " -0.14220705 -0.26483384 -0.02341689  0.01964453  0.28598622  0.2898339\n",
            " -0.51936596  0.33237323 -0.29203323 -0.25422458 -0.32015789  0.19741509\n",
            "  0.78614736  0.76298628 -1.10877806 -0.3108676  -0.44545325 -0.21573851\n",
            " -0.43798279 -0.10679173  0.28487073  0.23236588  0.90289826 -0.21048079\n",
            " -0.03001833  0.15388801  0.17239111 -0.66590301  0.10477625  0.43725751\n",
            "  0.65841573 -0.24782139 -0.22928751  0.31861714 -0.2151029  -0.75319591\n",
            " -0.31587245  0.61634559 -0.50134069 -0.10601186 -0.0365299  -0.11926447\n",
            "  0.88762651  0.17191809]\n"
          ],
          "name": "stdout"
        },
        {
          "output_type": "stream",
          "text": [
            "\n"
          ],
          "name": "stderr"
        }
      ]
    },
    {
      "cell_type": "code",
      "metadata": {
        "id": "m_C8i_Jl05vW"
      },
      "source": [
        "\n",
        "X_test_tfw2v = sent_vectors_test\n",
        "\n",
        "pickle.dump(np.array(X_test_tfw2v), open(\"saved_feats/X_test_tfw2v\",\"wb\"))"
      ],
      "execution_count": null,
      "outputs": []
    },
    {
      "cell_type": "markdown",
      "metadata": {
        "id": "9sp5s3Ht_FtA"
      },
      "source": [
        "## Loading saved vectors"
      ]
    },
    {
      "cell_type": "code",
      "metadata": {
        "id": "xpafp-7A3wE7",
        "colab": {
          "base_uri": "https://localhost:8080/",
          "height": 191
        },
        "outputId": "f9e61b8e-6f50-4d0b-c422-5aa406cdd45b"
      },
      "source": [
        "# loading bow vectors\n",
        "X_train_bow = pickle.load(open(\"saved_feats/X_train_bow\",\"rb\"))\n",
        "X_test_bow = pickle.load(open(\"saved_feats/X_test_bow\",\"rb\"))\n",
        "bow_features = pickle.load(open(\"saved_feats/bow_features\",\"rb\")).tolist()\n",
        "print('shape of X_train_bow is {}'.format(X_train_bow.shape))\n",
        "print('shape of X_test_bow is {}'.format(X_test_bow.shape))\n",
        "\n",
        "\n",
        "#loading tfidf vectors\n",
        "X_train_tfidf = pickle.load(open(\"saved_feats/X_train_tfidf\",\"rb\"))\n",
        "X_test_tfidf = pickle.load(open(\"saved_feats/X_test_tfidf\",\"rb\"))\n",
        "tfidf_features = pickle.load(open(\"saved_feats/tfidf_features\",\"rb\")).tolist()\n",
        "print('shape of X_train_tfidf is {}'.format(X_train_tfidf.shape))\n",
        "print('shape of X_test_tfidf is {}'.format(X_test_tfidf.shape))\n",
        "\n",
        "\n",
        "w2v_words = pickle.load(open(\"saved_feats/w2v_words\",\"rb\")).tolist()\n",
        "#avgw2v\n",
        "X_train_avgw2v = pickle.load(open(\"saved_feats/X_train_avgw2v\",\"rb\"))\n",
        "X_test_avgw2v = pickle.load(open(\"saved_feats/X_test_avgw2v\",\"rb\"))\n",
        "print('shape of X_train_avgw2v is {}'.format(X_train_avgw2v.shape))\n",
        "print('shape of X_test_avgw2v is {}'.format(X_test_avgw2v.shape))\n",
        "\n",
        "\n",
        "#tfidf-w2v\n",
        "X_train_tfw2v = pickle.load(open(\"saved_feats/X_train_tfw2v\",\"rb\"))\n",
        "X_test_tfw2v = pickle.load(open(\"saved_feats/X_test_tfw2v\",\"rb\"))\n",
        "print('shape of X_train_tfw2v is {}'.format(X_train_tfw2v.shape))\n",
        "print('shape of X_test_tfw2v is {}'.format(X_test_tfw2v.shape))\n",
        "\n",
        "\n",
        "y_train = np.load('saved_feats/y_train.npy',allow_pickle=True)\n",
        "y_test = np.load('saved_feats/y_test.npy',allow_pickle=True)\n",
        "print(f'shape of y_train is {y_train.shape}')\n",
        "print(f'shape of y_test is {y_test.shape}')"
      ],
      "execution_count": null,
      "outputs": [
        {
          "output_type": "stream",
          "text": [
            "shape of X_train_bow is (70000, 51038)\n",
            "shape of X_test_bow is (30000, 51038)\n",
            "shape of X_train_tfidf is (70000, 51038)\n",
            "shape of X_test_tfidf is (30000, 51038)\n",
            "shape of X_train_avgw2v is (70000, 50)\n",
            "shape of X_test_avgw2v is (30000, 50)\n",
            "shape of X_train_tfw2v is (70000, 50)\n",
            "shape of X_test_tfw2v is (30000, 50)\n",
            "shape of y_train is (70000,)\n",
            "shape of y_test is (30000,)\n"
          ],
          "name": "stdout"
        }
      ]
    },
    {
      "cell_type": "code",
      "metadata": {
        "id": "7CP4jhVFodI7"
      },
      "source": [],
      "execution_count": null,
      "outputs": []
    }
  ]
}