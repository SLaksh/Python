{
  "nbformat": 4,
  "nbformat_minor": 0,
  "metadata": {
    "colab": {
      "provenance": [],
      "authorship_tag": "ABX9TyP8LzDkHNXM1EXMbPdezPN+",
      "include_colab_link": true
    },
    "kernelspec": {
      "name": "python3",
      "display_name": "Python 3"
    },
    "language_info": {
      "name": "python"
    }
  },
  "cells": [
    {
      "cell_type": "markdown",
      "metadata": {
        "id": "view-in-github",
        "colab_type": "text"
      },
      "source": [
        "<a href=\"https://colab.research.google.com/github/SLaksh/Python/blob/main/MergeSort.ipynb\" target=\"_parent\"><img src=\"https://colab.research.google.com/assets/colab-badge.svg\" alt=\"Open In Colab\"/></a>"
      ]
    },
    {
      "cell_type": "code",
      "execution_count": null,
      "metadata": {
        "id": "EwLoNNzE-04v",
        "colab": {
          "base_uri": "https://localhost:8080/"
        },
        "outputId": "bcb14c38-e22f-472f-d02c-699f6feda6b9"
      },
      "outputs": [
        {
          "output_type": "stream",
          "name": "stdout",
          "text": [
            "[4, 1, 5, 7, 2, 6, 1, 1, 6, 4, 10, 33, 5, 7, 23]\n",
            "[1, 1, 1, 2, 4, 4, 5, 5, 6, 6, 7, 7, 10, 23, 33]\n"
          ]
        }
      ],
      "source": [
        "def merge_sort(list):\n",
        "    # 1. Store the length of the list\n",
        "    list_length = len(list)\n",
        "\n",
        "    # 2. List with length less than is already sorted\n",
        "    if list_length == 1:\n",
        "        return list\n",
        "\n",
        "    # 3. Identify the list midpoint and partition the list into a left_partition and a right_partition\n",
        "    mid_point = list_length // 2\n",
        "\n",
        "    # 4. To ensure all partitions are broken down into their individual components,\n",
        "    # the merge_sort function is called and a partitioned portion of the list is passed as a parameter\n",
        "    left_partition = merge_sort(list[:mid_point])\n",
        "    right_partition = merge_sort(list[mid_point:])\n",
        "\n",
        "    # 5. The merge_sort function returns a list composed of a sorted left and right partition.\n",
        "    return merge(left_partition, right_partition)\n",
        "\n",
        "\n",
        "# 6. takes in two lists and returns a sorted list made up of the content within the two lists\n",
        "def merge(left, right):\n",
        "    # 7. Initialize an empty list output that will be populated with sorted elements.\n",
        "    # Initialize two variables i and j which are used pointers when iterating through the lists.\n",
        "    output = []\n",
        "    i = j = 0\n",
        "\n",
        "    # 8. Executes the while loop if both pointers i and j are less than the length of the left and right lists\n",
        "    while i < len(left) and j < len(right):\n",
        "        # 9. Compare the elements at every position of both lists during each iteration\n",
        "        if left[i] < right[j]:\n",
        "            # output is populated with the lesser value\n",
        "            output.append(left[i])\n",
        "            # 10. Move pointer to the right\n",
        "            i += 1\n",
        "        else:\n",
        "            output.append(right[j])\n",
        "            j += 1\n",
        "    # 11. The remnant elements are picked from the current pointer value to the end of the respective list\n",
        "    output.extend(left[i:])\n",
        "    output.extend(right[j:])\n",
        "\n",
        "    return output\n",
        "\n",
        "\n",
        "def run_merge_sort():\n",
        "    unsorted_list = [4, 1, 5, 7, 2, 6, 1, 1, 6, 4, 10, 33, 5, 7, 23]\n",
        "    print(unsorted_list)\n",
        "    sorted_list = merge_sort(unsorted_list)\n",
        "    print(sorted_list)\n",
        "\n",
        "\n",
        "run_merge_sort()"
      ]
    },
    {
      "cell_type": "markdown",
      "source": [
        "# **LINEAR SEARCH**"
      ],
      "metadata": {
        "id": "DFPjKVjCu9hs"
      }
    },
    {
      "cell_type": "code",
      "source": [
        "def Linear_Search(arr, n, key):\n",
        "    for loc in range(n):\n",
        "        if arr[loc] == key:\n",
        "            return loc\n",
        "    return -1\n",
        "\n",
        "arr = [\"Tony\", \"Anton\", \"Barry\", \"Michael\", \"James\"]\n",
        "Linear_Search(arr, 5, \"Tony\") #return 0\n",
        "Linear_Search(arr, 5, \"Barry\") #return 2\n",
        "Linear_Search(arr, 5, \"Tim\") #return -1"
      ],
      "metadata": {
        "colab": {
          "base_uri": "https://localhost:8080/"
        },
        "id": "QcRfe1XdvBlz",
        "outputId": "81b577cd-4ce9-48f5-8b25-d7e99b149821"
      },
      "execution_count": null,
      "outputs": [
        {
          "output_type": "execute_result",
          "data": {
            "text/plain": [
              "-1"
            ]
          },
          "metadata": {},
          "execution_count": 2
        }
      ]
    },
    {
      "cell_type": "markdown",
      "source": [
        "# **BIANRY SEARCH**"
      ],
      "metadata": {
        "id": "VJrU0PEo2acp"
      }
    },
    {
      "cell_type": "code",
      "source": [
        "# Binary Search in python\n",
        "\n",
        "\n",
        "def binarySearch(array, x, low, high):\n",
        "\n",
        "    # Repeat until the pointers low and high meet each other\n",
        "    while low <= high:\n",
        "        mid = low + (high - low)//2\n",
        "        if array[mid] == x:\n",
        "            return mid\n",
        "\n",
        "        elif array[mid] < x:\n",
        "            low = mid + 1\n",
        "\n",
        "        else:\n",
        "            high = mid - 1\n",
        "    return -1\n",
        "\n",
        "array = [3, 4, 5, 6, 7, 8, 9]\n",
        "x = 4\n",
        "\n",
        "result = binarySearch(array, x, 0, len(array)-1)\n",
        "\n",
        "if result != -1:\n",
        "    print(\"Element is present at index \" + str(result))\n",
        "else:\n",
        "    print(\"Not found\")"
      ],
      "metadata": {
        "colab": {
          "base_uri": "https://localhost:8080/"
        },
        "id": "mpeLxFFO2fGK",
        "outputId": "b9a6da7d-0b20-4f0f-e731-ec9f861cd672"
      },
      "execution_count": null,
      "outputs": [
        {
          "output_type": "stream",
          "name": "stdout",
          "text": [
            "Element is present at index 1\n"
          ]
        }
      ]
    }
  ]
}