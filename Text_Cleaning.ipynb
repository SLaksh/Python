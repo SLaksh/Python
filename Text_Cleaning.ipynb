{
  "nbformat": 4,
  "nbformat_minor": 0,
  "metadata": {
    "colab": {
      "provenance": [],
      "authorship_tag": "ABX9TyPjOrIAMxprc1rFZpBbxIpG",
      "include_colab_link": true
    },
    "kernelspec": {
      "name": "python3",
      "display_name": "Python 3"
    },
    "language_info": {
      "name": "python"
    }
  },
  "cells": [
    {
      "cell_type": "markdown",
      "metadata": {
        "id": "view-in-github",
        "colab_type": "text"
      },
      "source": [
        "<a href=\"https://colab.research.google.com/github/SLaksh/Python/blob/main/Text_Cleaning.ipynb\" target=\"_parent\"><img src=\"https://colab.research.google.com/assets/colab-badge.svg\" alt=\"Open In Colab\"/></a>"
      ]
    },
    {
      "cell_type": "markdown",
      "source": [
        "REmoving Upper case"
      ],
      "metadata": {
        "id": "zy4MyPYzU15I"
      }
    },
    {
      "cell_type": "code",
      "execution_count": null,
      "metadata": {
        "colab": {
          "base_uri": "https://localhost:8080/"
        },
        "id": "4GQwl-rtUwA6",
        "outputId": "ab46cde5-3e2e-4384-f930-1b8e6daabe70"
      },
      "outputs": [
        {
          "output_type": "stream",
          "name": "stdout",
          "text": [
            "hey amazon - my package never arrived https://www.amazon.com/gp/css/order-history?ref_=nav_orders_first fix this asap! @amazonhelp\n"
          ]
        }
      ],
      "source": [
        "text = \"Hey Amazon - my package never arrived https://www.amazon.com/gp/css/order-history?ref_=nav_orders_first FIX THIS ASAP! @AmazonHelp\"\n",
        "\n",
        "text = text.lower()\n",
        "\n",
        "print(text)"
      ]
    },
    {
      "cell_type": "markdown",
      "source": [
        "REmoving Unicode"
      ],
      "metadata": {
        "id": "6Tj9fyYvU6Yo"
      }
    },
    {
      "cell_type": "code",
      "source": [
        "import re\n",
        "\n",
        "text = \"hey amazon - my package never arrived https://www.amazon.com/gp/css/order-history?ref_=nav_orders_first please fix asap! @amazonhelp\"\n",
        "\n",
        "text = re.sub(r\"(@\\[A-Za-z0-9]+)|([^0-9A-Za-z \\t])|(\\w+:\\/\\/\\S+)|^rt|http.+?\", \"\", text)\n",
        "\n",
        "print(text)"
      ],
      "metadata": {
        "colab": {
          "base_uri": "https://localhost:8080/"
        },
        "id": "7--4o_zeU88s",
        "outputId": "6b2a70a9-aaef-4a0d-c04d-e8b7be5fd496"
      },
      "execution_count": null,
      "outputs": [
        {
          "output_type": "stream",
          "name": "stdout",
          "text": [
            "hey amazon  my package never arrived  please fix asap amazonhelp\n"
          ]
        }
      ]
    },
    {
      "cell_type": "markdown",
      "source": [
        "Removing Stopwords\n"
      ],
      "metadata": {
        "id": "raSKZ_ZpVAea"
      }
    },
    {
      "cell_type": "code",
      "source": [
        "import nltk.corpus\n",
        "nltk.download('stopwords')\n",
        "from nltk.corpus import stopwords\n",
        "\n",
        "stop = stopwords.words('english')\n",
        "text = \"my package from amazon never arrived fix this asap\"\n",
        "text = \" \".join([word for word in text.split() if word not in (stop)])\n",
        "print(text)"
      ],
      "metadata": {
        "colab": {
          "base_uri": "https://localhost:8080/"
        },
        "id": "bRuCCErXVCwj",
        "outputId": "145ec622-5993-4bd0-8d5d-46d4a47c725c"
      },
      "execution_count": null,
      "outputs": [
        {
          "output_type": "stream",
          "name": "stderr",
          "text": [
            "[nltk_data] Downloading package stopwords to /root/nltk_data...\n"
          ]
        },
        {
          "output_type": "stream",
          "name": "stdout",
          "text": [
            "package amazon never arrived fix asap\n"
          ]
        },
        {
          "output_type": "stream",
          "name": "stderr",
          "text": [
            "[nltk_data]   Unzipping corpora/stopwords.zip.\n"
          ]
        }
      ]
    },
    {
      "cell_type": "markdown",
      "source": [
        "Stemming and Lemmatization"
      ],
      "metadata": {
        "id": "vH-jWzXRVcH2"
      }
    },
    {
      "cell_type": "code",
      "source": [
        "import nltk\n",
        "from nltk.stem.porter import PorterStemmer\n",
        "from nltk.stem import WordNetLemmatizer\n",
        "\n",
        "words = [\"jump\", \"jumped\", \"jumps\", \"jumping\"]\n",
        "stemmer = PorterStemmer()\n",
        "for word in words:\n",
        "\n",
        "  print(word + \" = \" + stemmer.stem(word))"
      ],
      "metadata": {
        "colab": {
          "base_uri": "https://localhost:8080/"
        },
        "id": "AyRzBicTVhkz",
        "outputId": "47d76899-615c-4b13-b1bc-7bfafc3dba94"
      },
      "execution_count": null,
      "outputs": [
        {
          "output_type": "stream",
          "name": "stdout",
          "text": [
            "jump = jump\n",
            "jumped = jump\n",
            "jumps = jump\n",
            "jumping = jump\n"
          ]
        }
      ]
    }
  ]
}