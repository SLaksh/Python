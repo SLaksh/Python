{
  "nbformat": 4,
  "nbformat_minor": 0,
  "metadata": {
    "colab": {
      "provenance": [],
      "authorship_tag": "ABX9TyNXTf7NJ0d6UaecdkP6Z1ux",
      "include_colab_link": true
    },
    "kernelspec": {
      "name": "python3",
      "display_name": "Python 3"
    },
    "language_info": {
      "name": "python"
    }
  },
  "cells": [
    {
      "cell_type": "markdown",
      "metadata": {
        "id": "view-in-github",
        "colab_type": "text"
      },
      "source": [
        "<a href=\"https://colab.research.google.com/github/SLaksh/Python/blob/main/ShallowParsing.ipynb\" target=\"_parent\"><img src=\"https://colab.research.google.com/assets/colab-badge.svg\" alt=\"Open In Colab\"/></a>"
      ]
    },
    {
      "cell_type": "markdown",
      "source": [
        "'''\n",
        "# **POS tag list:**\n",
        "\n",
        "CC\tcoordinating conjunction\n",
        "\n",
        "CD\tcardinal digit\n",
        "\n",
        "DT\tdeterminer\n",
        "EX\texistential there (like: \"there is\" ... think of it like \"there exists\")\n",
        "\n",
        "FW\tforeign word\n",
        "\n",
        "IN\tpreposition/subordinating conjunction\n",
        "\n",
        "JJ\tadjective   'barren'\n",
        "\n",
        "JJR\tadjective, comparative\t'bigger'\n",
        "\n",
        "JJS\tadjective, superlative\t'biggest'\n",
        "\n",
        "LS\tlist marker\t1)\n",
        "\n",
        "MD\tmodal\tcould, will\n",
        "\n",
        "NN\tnoun, singular 'desk'\n",
        "\n",
        "\n",
        "NNS\tnoun plural\t'desks'\n",
        "\n",
        "NNP\tproper noun, singular\t'Harrison'\n",
        "\n",
        "NNPS\tproper noun, plural\t'Americans'\n",
        "\n",
        "PDT\tpredeterminer\t'all the kids'\n",
        "\n",
        "POS\tpossessive ending\tparent's\n",
        "\n",
        "PRP\tpersonal pronoun\tI, he, she\n",
        "\n",
        "PRP$\tpossessive pronoun\tmy, his, hers\n",
        "\n",
        "RB\tadverb\tvery, silently,\n",
        "\n",
        "RBR\tadverb, comparative\tbetter\n",
        "\n",
        "RBS\tadverb, superlative\tbest\n",
        "\n",
        "RP\tparticle\tgive up\n",
        "\n",
        "TO\tto\tgo 'to' the store.\n",
        "\n",
        "UH\tinterjection\terrrrrrrrm\n",
        "\n",
        "VB\tverb, base form\ttake\n",
        "\n",
        "VBD\tverb, past tense\ttook\n",
        "\n",
        "VBG\tverb, gerund/present participle\ttaking\n",
        "\n",
        "VBN\tverb, past participle\ttaken\n",
        "\n",
        "VBP\tverb, sing. present, non-3d\ttake\n",
        "\n",
        "VBZ\tverb, 3rd person sing. present\ttakes\n",
        "\n",
        "WDT\twh-determiner\twhich\n",
        "\n",
        "WP\twh-pronoun\twho, what\n",
        "\n",
        "WP$\tpossessive wh-pronoun\twhose\n",
        "**bold text**\n",
        "WRB\twh-abverb\twhere, when\n"
      ],
      "metadata": {
        "id": "Pu4CPfSyYK3J"
      }
    },
    {
      "cell_type": "code",
      "source": [
        "import nltk\n",
        "import spacy\n",
        "import numpy as np\n",
        "import pandas as pd"
      ],
      "metadata": {
        "id": "oZyVunM8baOV"
      },
      "execution_count": null,
      "outputs": []
    },
    {
      "cell_type": "code",
      "source": [
        "sentence = \"The brown fox is quick and he is jumping over the lazy dog\"\n",
        "grammar = '''\n",
        " NP: {<DT>?<JJ>?<NN.*>}\n",
        " ADJP: {<JJ>}\n",
        " ADVP: {<RB.*>}\n",
        " PP: {<IN>}\n",
        " VP: {<MD>?<VB.*>+}\n",
        "  '''\n"
      ],
      "metadata": {
        "id": "woCkLJ9zcYYS"
      },
      "execution_count": null,
      "outputs": []
    },
    {
      "cell_type": "code",
      "source": [
        "import nltk\n",
        "nltk.download('averaged_perceptron_tagger')"
      ],
      "metadata": {
        "id": "M1HRojHNcrNa",
        "outputId": "68ed9a96-fb48-4c32-d8a5-5f713976ff00",
        "colab": {
          "base_uri": "https://localhost:8080/"
        }
      },
      "execution_count": null,
      "outputs": [
        {
          "output_type": "stream",
          "name": "stderr",
          "text": [
            "[nltk_data] Downloading package averaged_perceptron_tagger to\n",
            "[nltk_data]     /root/nltk_data...\n",
            "[nltk_data]   Unzipping taggers/averaged_perceptron_tagger.zip.\n"
          ]
        },
        {
          "output_type": "execute_result",
          "data": {
            "text/plain": [
              "True"
            ]
          },
          "metadata": {},
          "execution_count": 9
        }
      ]
    },
    {
      "cell_type": "code",
      "execution_count": null,
      "metadata": {
        "colab": {
          "base_uri": "https://localhost:8080/"
        },
        "id": "toE1PdHbYHi-",
        "outputId": "7a1f18ed-0366-4ea4-9645-2d989c5b942e"
      },
      "outputs": [
        {
          "output_type": "stream",
          "name": "stdout",
          "text": [
            "(S\n",
            "  (NP The/DT brown/JJ fox/NN)\n",
            "  (VP is/VBZ)\n",
            "  (ADJP quick/JJ)\n",
            "  and/CC\n",
            "  he/PRP\n",
            "  (VP is/VBZ jumping/VBG)\n",
            "  (PP over/IN)\n",
            "  (NP the/DT lazy/JJ dog/NN))\n"
          ]
        }
      ],
      "source": [
        "pos_tags = nltk.pos_tag(sentence.split())\n",
        "pos_tagged_sent = nltk.pos_tag(sentence.split())\n",
        "rp = nltk.RegexpParser(grammar)\n",
        "shallow_parsed_sent = rp.parse(pos_tagged_sent)\n",
        "print(shallow_parsed_sent)"
      ]
    }
  ]
}