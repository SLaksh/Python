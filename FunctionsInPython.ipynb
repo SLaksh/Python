{
  "nbformat": 4,
  "nbformat_minor": 0,
  "metadata": {
    "colab": {
      "provenance": [],
      "authorship_tag": "ABX9TyPyl+BFXXS6A1xCDI31A6S4",
      "include_colab_link": true
    },
    "kernelspec": {
      "name": "python3",
      "display_name": "Python 3"
    },
    "language_info": {
      "name": "python"
    }
  },
  "cells": [
    {
      "cell_type": "markdown",
      "metadata": {
        "id": "view-in-github",
        "colab_type": "text"
      },
      "source": [
        "<a href=\"https://colab.research.google.com/github/SLaksh/Python/blob/main/FunctionsInPython.ipynb\" target=\"_parent\"><img src=\"https://colab.research.google.com/assets/colab-badge.svg\" alt=\"Open In Colab\"/></a>"
      ]
    },
    {
      "cell_type": "code",
      "execution_count": null,
      "metadata": {
        "colab": {
          "base_uri": "https://localhost:8080/"
        },
        "id": "wThFv--UjH5q",
        "outputId": "52285efd-a416-4bdd-a1c8-631b9f2dca7e"
      },
      "outputs": [
        {
          "output_type": "stream",
          "name": "stdout",
          "text": [
            "Values inside the function:  [10, 20, 30, [1, 2, 3, 4]]\n",
            "Values outside the function:  [10, 20, 30, [1, 2, 3, 4]]\n"
          ]
        }
      ],
      "source": [
        "def printme( mylist ):\n",
        "   \"This changes a passed list into this function\"\n",
        "   mylist.append([1,2,3,4]);\n",
        "   print (\"Values inside the function: \", mylist)\n",
        "   return\n",
        "# Now you can call printme function\n",
        "mylist = [10,20,30];\n",
        "printme( mylist );\n",
        "print(\"Values outside the function: \", mylist)\n"
      ]
    },
    {
      "cell_type": "code",
      "source": [
        "# Function definition is here\n",
        "def printme( mylist ):\n",
        "   \"This changes a passed list into this function\"\n",
        "   mylist = [1,2,3,4]; # This would assig new reference in mylist\n",
        "   print(\"Values inside the function: \", mylist)\n",
        "   return\n",
        "\n",
        "# Now you can call printme function\n",
        "mylist = [10,20,30];\n",
        "printme( mylist );\n",
        "print( \"Values outside the function: \", mylist)"
      ],
      "metadata": {
        "colab": {
          "base_uri": "https://localhost:8080/"
        },
        "id": "yrr5-4BQjiRq",
        "outputId": "e4d829d4-3364-4222-8992-5d3b6a416473"
      },
      "execution_count": null,
      "outputs": [
        {
          "output_type": "stream",
          "name": "stdout",
          "text": [
            "Values inside the function:  [1, 2, 3, 4]\n",
            "Values outside the function:  [10, 20, 30]\n"
          ]
        }
      ]
    },
    {
      "cell_type": "markdown",
      "source": [
        "**Function with Keyword**"
      ],
      "metadata": {
        "id": "g2wTT5yoxEp3"
      }
    },
    {
      "cell_type": "code",
      "source": [
        "def team(name, project):\n",
        "    print(name, \"is working with\", project)\n",
        "\n",
        "team(project = \"Google\", name = 'Lakshmi')"
      ],
      "metadata": {
        "colab": {
          "base_uri": "https://localhost:8080/"
        },
        "id": "ONYJGJJCoZBq",
        "outputId": "4ba19687-27a1-412f-941c-77c52aa089a8"
      },
      "execution_count": null,
      "outputs": [
        {
          "output_type": "stream",
          "name": "stdout",
          "text": [
            "Lakshmi is working with Google\n"
          ]
        }
      ]
    },
    {
      "cell_type": "markdown",
      "source": [
        "# Function with non-named *args "
      ],
      "metadata": {
        "id": "EDaA0swUwrMB"
      }
    },
    {
      "cell_type": "code",
      "source": [
        "def team(*members):\n",
        "    for member in members:\n",
        "        print(member)\n",
        "        \n",
        "team(\"Shiva\", \"Vishnu\", \"Brahma\")"
      ],
      "metadata": {
        "colab": {
          "base_uri": "https://localhost:8080/"
        },
        "id": "7liCxZ1ZtOub",
        "outputId": "59fa8c4e-e0c0-4d46-dcfe-c67b5747ff11"
      },
      "execution_count": null,
      "outputs": [
        {
          "output_type": "stream",
          "name": "stdout",
          "text": [
            "Shiva\n",
            "Vishnu\n",
            "Brahma\n"
          ]
        }
      ]
    },
    {
      "cell_type": "markdown",
      "source": [
        "**Function with named variable length**"
      ],
      "metadata": {
        "id": "EhOEp53Wwi54"
      }
    },
    {
      "cell_type": "code",
      "source": [
        "def team(*members, **features):\n",
        "    for member in members:\n",
        "        print(member)\n",
        "    \n",
        "    \n",
        "    for key,value in features.items():\n",
        "        print(\"%s == %s\" % (key, value))\n",
        "\n",
        "team(\"Brahma \" \"Vishnu\" \"Shiva\", Project = \"Creation\", Projectwork = \"Protection\", Projecttrash = \"Destruction\")\n"
      ],
      "metadata": {
        "colab": {
          "base_uri": "https://localhost:8080/"
        },
        "id": "xJR0nSAftohm",
        "outputId": "2c9f3ad9-c389-4042-8a46-10f33e2122c7"
      },
      "execution_count": null,
      "outputs": [
        {
          "output_type": "stream",
          "name": "stdout",
          "text": [
            "Brahma VishnuShiva\n",
            "Project == Creation\n",
            "Projectwork == Protection\n",
            "Projecttrash == Destruction\n"
          ]
        }
      ]
    },
    {
      "cell_type": "markdown",
      "source": [
        "**Function with Default argument**"
      ],
      "metadata": {
        "id": "ZG-6ujl6wXNu"
      }
    },
    {
      "cell_type": "code",
      "source": [
        "def raise_power(number, power = 2):\n",
        "    \"\"\"\n",
        "    Raise number to the power\n",
        "    \n",
        "    Parameters\n",
        "    ----------\n",
        "    number : int, the number we want to raise\n",
        "    power : int, default 2, the power we want to use\n",
        "    \"\"\"\n",
        "    return number ** power\n",
        "\n",
        "print(raise_power(9))\n",
        "print(raise_power(2))\n",
        "print(raise_power(2, 3))"
      ],
      "metadata": {
        "colab": {
          "base_uri": "https://localhost:8080/"
        },
        "id": "Y3E74B1Sv_uZ",
        "outputId": "30562052-3fe6-40d7-f586-66e715638069"
      },
      "execution_count": null,
      "outputs": [
        {
          "output_type": "stream",
          "name": "stdout",
          "text": [
            "81\n",
            "4\n",
            "8\n"
          ]
        }
      ]
    },
    {
      "cell_type": "markdown",
      "source": [
        "**Function call differently**\n",
        "\n",
        "---\n",
        "\n"
      ],
      "metadata": {
        "id": "MtWJBF6dyn7U"
      }
    },
    {
      "cell_type": "code",
      "source": [
        "def print_info(name, position, email):\n",
        "    print(\"name:\", name)\n",
        "    print(\"position:\", position)\n",
        "    print(\"email:\", email)\n",
        "    \n",
        "details = (\"ML Engineer\", \"laksh@google.com\")\n",
        "print_info(\"Laksh\", *details)"
      ],
      "metadata": {
        "id": "M6HzoSaOyvQx"
      },
      "execution_count": null,
      "outputs": []
    },
    {
      "cell_type": "markdown",
      "source": [
        "**Logical Operator**"
      ],
      "metadata": {
        "id": "K4iWtkJl1Y76"
      }
    },
    {
      "cell_type": "code",
      "source": [
        "# Assigning values to variable\n",
        "a = True\n",
        "b = False# Logical and\n",
        "print('a and b is',a and b)# Logical or\n",
        "print('a or b is',a or b)# Logical not\n",
        "print('not a is',not a)"
      ],
      "metadata": {
        "id": "wSPz6lWm1eNz"
      },
      "execution_count": null,
      "outputs": []
    },
    {
      "cell_type": "markdown",
      "source": [
        "**Logical \"And\" Operator in String**"
      ],
      "metadata": {
        "id": "HrU5YKeY2h3Z"
      }
    },
    {
      "cell_type": "code",
      "source": [
        "a = \"\"\n",
        "b = \"Python\"\n",
        "a and b''"
      ],
      "metadata": {
        "colab": {
          "base_uri": "https://localhost:8080/",
          "height": 35
        },
        "id": "nKPJdClu2oRy",
        "outputId": "59cb0a18-802a-4b1d-fdb9-c8e6e8debbd2"
      },
      "execution_count": null,
      "outputs": [
        {
          "output_type": "execute_result",
          "data": {
            "text/plain": [
              "''"
            ],
            "application/vnd.google.colaboratory.intrinsic+json": {
              "type": "string"
            }
          },
          "metadata": {},
          "execution_count": 25
        }
      ]
    },
    {
      "cell_type": "markdown",
      "source": [
        "**Logical \"OR\" Operator in String**"
      ],
      "metadata": {
        "id": "J2eUupMB2y5h"
      }
    },
    {
      "cell_type": "code",
      "source": [
        "a = \"\"\n",
        "b = \"Python\"\n",
        "a or b"
      ],
      "metadata": {
        "id": "qC7RSm-H25YO"
      },
      "execution_count": null,
      "outputs": []
    },
    {
      "cell_type": "markdown",
      "source": [
        "**Bitwise Operators**"
      ],
      "metadata": {
        "id": "EqebMqcl3iOB"
      }
    },
    {
      "cell_type": "code",
      "source": [
        "# Assigning values to variables\n",
        "a = 10\n",
        "b = 11\n",
        "# Bitwise AND\n",
        "print('a & b is',a & b)\n",
        "# Bitwise OR\n",
        "print('a | b is',a | b)\n",
        "# Bitwise XOR\n",
        "print('a ^ b is',a ^ b)\n",
        "# Bitwise NOT\n",
        "print('~a is',~a)\n",
        "# Bitwise Left Shift\n",
        "print('a << b is',a << b)\n",
        "# Bitwise Right Shift\n",
        "print('a >> b is',a >> b)"
      ],
      "metadata": {
        "colab": {
          "base_uri": "https://localhost:8080/"
        },
        "id": "8FP7iLuq3lG5",
        "outputId": "cd9ec2d4-e49c-457a-9cac-de97f283ff07"
      },
      "execution_count": null,
      "outputs": [
        {
          "output_type": "stream",
          "name": "stdout",
          "text": [
            "a & b is 10\n",
            "a | b is 11\n",
            "a ^ b is 1\n",
            "~a is -11\n",
            "a << b is 20480\n",
            "a >> b is 0\n"
          ]
        }
      ]
    },
    {
      "cell_type": "markdown",
      "source": [
        "**Sorting the list**"
      ],
      "metadata": {
        "id": "jlCVWDfNDFHp"
      }
    },
    {
      "cell_type": "code",
      "source": [
        "num_list = [1,-5,3,-9,25,10]\n",
        "num_list.sort()\n",
        "print(num_list)\n"
      ],
      "metadata": {
        "id": "1JsVn_dLDKu4"
      },
      "execution_count": null,
      "outputs": []
    },
    {
      "cell_type": "markdown",
      "source": [
        "**Sort list on absolute values**"
      ],
      "metadata": {
        "id": "MVYCvYfnDdqh"
      }
    },
    {
      "cell_type": "code",
      "source": [
        "num_list = [1,-5,3,-9,25,10]\n",
        "def absolute_value(num):\n",
        "    return abs(num)\n",
        "\n",
        "num_list.sort(key = absolute_value)\n",
        "print(num_list) \n"
      ],
      "metadata": {
        "id": "XROv7kDzDg4a"
      },
      "execution_count": null,
      "outputs": []
    },
    {
      "cell_type": "markdown",
      "source": [
        "**The above code in Lambda function**"
      ],
      "metadata": {
        "id": "E6pdZaeZEA0I"
      }
    },
    {
      "cell_type": "code",
      "source": [
        "num_list = [1,-5,3,-9,25,10]\n",
        "num_list.sort(key = lambda num: abs(num))\n",
        "print(num_list)"
      ],
      "metadata": {
        "id": "RZ9uDe3bEIuT"
      },
      "execution_count": null,
      "outputs": []
    },
    {
      "cell_type": "code",
      "source": [
        "def bubble_sort(our_list):\n",
        "    # We go through the list as many times as there are elements\n",
        "    for i in range(len(our_list)):\n",
        "        # We want the last pair of adjacent elements to be (n-2, n-1)\n",
        "        for j in range(len(our_list) - 1):\n",
        "            if our_list[j] > our_list[j+1]:\n",
        "                # Swap\n",
        "                our_list[j], our_list[j+1] = our_list[j+1], our_list[j]\n",
        "our_list = [6,7,2,1]\n",
        "bubble_sort(our_list)\n",
        "print(our_list)"
      ],
      "metadata": {
        "colab": {
          "base_uri": "https://localhost:8080/"
        },
        "id": "PD1b63OP-Sns",
        "outputId": "daf3d995-6871-41ea-fcaf-5bd75b19b175"
      },
      "execution_count": null,
      "outputs": [
        {
          "output_type": "stream",
          "name": "stdout",
          "text": [
            "[1, 2, 6, 7]\n"
          ]
        }
      ]
    },
    {
      "cell_type": "markdown",
      "source": [
        "**BUBBLE SORT**"
      ],
      "metadata": {
        "id": "g52NA92r_ffS"
      }
    },
    {
      "cell_type": "code",
      "source": [
        "def bubbleSort(list):\n",
        "    isSwapped = True\n",
        "\n",
        "    while isSwapped:\n",
        "        isSwapped = False\n",
        "        for i in range(len(list) - 1):\n",
        "            if list[i] > list[i + 1]:\n",
        "                isSwapped = True\n",
        "                list[i], list[i+1] = list[i+1], list[i]\n",
        "  \n",
        "list = [19, 1, 9, 3, 10, 13]\n",
        "\n",
        "bubbleSort(list)\n",
        "print('Sorted array in ascending order:')\n",
        "print(list)"
      ],
      "metadata": {
        "colab": {
          "base_uri": "https://localhost:8080/"
        },
        "id": "LA_6iv2Z_Szl",
        "outputId": "59b38daa-90d2-4503-a7a8-949d425262d6"
      },
      "execution_count": null,
      "outputs": [
        {
          "output_type": "stream",
          "name": "stdout",
          "text": [
            "Sorted array in ascending order:\n",
            "[1, 3, 9, 10, 13, 19]\n"
          ]
        }
      ]
    }
  ]
}