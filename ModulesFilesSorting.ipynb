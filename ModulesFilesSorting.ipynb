{
  "nbformat": 4,
  "nbformat_minor": 0,
  "metadata": {
    "colab": {
      "provenance": [],
      "authorship_tag": "ABX9TyOGKMdfgMy3GsC3h/8j0qVD",
      "include_colab_link": true
    },
    "kernelspec": {
      "name": "python3",
      "display_name": "Python 3"
    },
    "language_info": {
      "name": "python"
    }
  },
  "cells": [
    {
      "cell_type": "markdown",
      "metadata": {
        "id": "view-in-github",
        "colab_type": "text"
      },
      "source": [
        "<a href=\"https://colab.research.google.com/github/SLaksh/Python/blob/main/ModulesFilesSorting.ipynb\" target=\"_parent\"><img src=\"https://colab.research.google.com/assets/colab-badge.svg\" alt=\"Open In Colab\"/></a>"
      ]
    },
    {
      "cell_type": "code",
      "execution_count": null,
      "metadata": {
        "id": "eDjd8Fx249hH"
      },
      "outputs": [],
      "source": [
        "\n",
        "cities_list = ['Mumbai', 'Delhi', 'Bangalore', 'Karnataka', 'Hyderabad']"
      ]
    },
    {
      "cell_type": "code",
      "source": [
        "from google.colab import files\n",
        "uploaded = files.upload()\n",
        "file = open('dog_breeds.txt')\n",
        "type(file)"
      ],
      "metadata": {
        "colab": {
          "base_uri": "https://localhost:8080/",
          "height": 90
        },
        "id": "QlCVtUwJHIxW",
        "outputId": "f11bf377-44e7-4247-9d5e-4e9842e7931e"
      },
      "execution_count": null,
      "outputs": [
        {
          "output_type": "display_data",
          "data": {
            "text/plain": [
              "<IPython.core.display.HTML object>"
            ],
            "text/html": [
              "\n",
              "     <input type=\"file\" id=\"files-2abf6b67-3d9e-4ecb-a037-2f7960d2ba67\" name=\"files[]\" multiple disabled\n",
              "        style=\"border:none\" />\n",
              "     <output id=\"result-2abf6b67-3d9e-4ecb-a037-2f7960d2ba67\">\n",
              "      Upload widget is only available when the cell has been executed in the\n",
              "      current browser session. Please rerun this cell to enable.\n",
              "      </output>\n",
              "      <script>// Copyright 2017 Google LLC\n",
              "//\n",
              "// Licensed under the Apache License, Version 2.0 (the \"License\");\n",
              "// you may not use this file except in compliance with the License.\n",
              "// You may obtain a copy of the License at\n",
              "//\n",
              "//      http://www.apache.org/licenses/LICENSE-2.0\n",
              "//\n",
              "// Unless required by applicable law or agreed to in writing, software\n",
              "// distributed under the License is distributed on an \"AS IS\" BASIS,\n",
              "// WITHOUT WARRANTIES OR CONDITIONS OF ANY KIND, either express or implied.\n",
              "// See the License for the specific language governing permissions and\n",
              "// limitations under the License.\n",
              "\n",
              "/**\n",
              " * @fileoverview Helpers for google.colab Python module.\n",
              " */\n",
              "(function(scope) {\n",
              "function span(text, styleAttributes = {}) {\n",
              "  const element = document.createElement('span');\n",
              "  element.textContent = text;\n",
              "  for (const key of Object.keys(styleAttributes)) {\n",
              "    element.style[key] = styleAttributes[key];\n",
              "  }\n",
              "  return element;\n",
              "}\n",
              "\n",
              "// Max number of bytes which will be uploaded at a time.\n",
              "const MAX_PAYLOAD_SIZE = 100 * 1024;\n",
              "\n",
              "function _uploadFiles(inputId, outputId) {\n",
              "  const steps = uploadFilesStep(inputId, outputId);\n",
              "  const outputElement = document.getElementById(outputId);\n",
              "  // Cache steps on the outputElement to make it available for the next call\n",
              "  // to uploadFilesContinue from Python.\n",
              "  outputElement.steps = steps;\n",
              "\n",
              "  return _uploadFilesContinue(outputId);\n",
              "}\n",
              "\n",
              "// This is roughly an async generator (not supported in the browser yet),\n",
              "// where there are multiple asynchronous steps and the Python side is going\n",
              "// to poll for completion of each step.\n",
              "// This uses a Promise to block the python side on completion of each step,\n",
              "// then passes the result of the previous step as the input to the next step.\n",
              "function _uploadFilesContinue(outputId) {\n",
              "  const outputElement = document.getElementById(outputId);\n",
              "  const steps = outputElement.steps;\n",
              "\n",
              "  const next = steps.next(outputElement.lastPromiseValue);\n",
              "  return Promise.resolve(next.value.promise).then((value) => {\n",
              "    // Cache the last promise value to make it available to the next\n",
              "    // step of the generator.\n",
              "    outputElement.lastPromiseValue = value;\n",
              "    return next.value.response;\n",
              "  });\n",
              "}\n",
              "\n",
              "/**\n",
              " * Generator function which is called between each async step of the upload\n",
              " * process.\n",
              " * @param {string} inputId Element ID of the input file picker element.\n",
              " * @param {string} outputId Element ID of the output display.\n",
              " * @return {!Iterable<!Object>} Iterable of next steps.\n",
              " */\n",
              "function* uploadFilesStep(inputId, outputId) {\n",
              "  const inputElement = document.getElementById(inputId);\n",
              "  inputElement.disabled = false;\n",
              "\n",
              "  const outputElement = document.getElementById(outputId);\n",
              "  outputElement.innerHTML = '';\n",
              "\n",
              "  const pickedPromise = new Promise((resolve) => {\n",
              "    inputElement.addEventListener('change', (e) => {\n",
              "      resolve(e.target.files);\n",
              "    });\n",
              "  });\n",
              "\n",
              "  const cancel = document.createElement('button');\n",
              "  inputElement.parentElement.appendChild(cancel);\n",
              "  cancel.textContent = 'Cancel upload';\n",
              "  const cancelPromise = new Promise((resolve) => {\n",
              "    cancel.onclick = () => {\n",
              "      resolve(null);\n",
              "    };\n",
              "  });\n",
              "\n",
              "  // Wait for the user to pick the files.\n",
              "  const files = yield {\n",
              "    promise: Promise.race([pickedPromise, cancelPromise]),\n",
              "    response: {\n",
              "      action: 'starting',\n",
              "    }\n",
              "  };\n",
              "\n",
              "  cancel.remove();\n",
              "\n",
              "  // Disable the input element since further picks are not allowed.\n",
              "  inputElement.disabled = true;\n",
              "\n",
              "  if (!files) {\n",
              "    return {\n",
              "      response: {\n",
              "        action: 'complete',\n",
              "      }\n",
              "    };\n",
              "  }\n",
              "\n",
              "  for (const file of files) {\n",
              "    const li = document.createElement('li');\n",
              "    li.append(span(file.name, {fontWeight: 'bold'}));\n",
              "    li.append(span(\n",
              "        `(${file.type || 'n/a'}) - ${file.size} bytes, ` +\n",
              "        `last modified: ${\n",
              "            file.lastModifiedDate ? file.lastModifiedDate.toLocaleDateString() :\n",
              "                                    'n/a'} - `));\n",
              "    const percent = span('0% done');\n",
              "    li.appendChild(percent);\n",
              "\n",
              "    outputElement.appendChild(li);\n",
              "\n",
              "    const fileDataPromise = new Promise((resolve) => {\n",
              "      const reader = new FileReader();\n",
              "      reader.onload = (e) => {\n",
              "        resolve(e.target.result);\n",
              "      };\n",
              "      reader.readAsArrayBuffer(file);\n",
              "    });\n",
              "    // Wait for the data to be ready.\n",
              "    let fileData = yield {\n",
              "      promise: fileDataPromise,\n",
              "      response: {\n",
              "        action: 'continue',\n",
              "      }\n",
              "    };\n",
              "\n",
              "    // Use a chunked sending to avoid message size limits. See b/62115660.\n",
              "    let position = 0;\n",
              "    do {\n",
              "      const length = Math.min(fileData.byteLength - position, MAX_PAYLOAD_SIZE);\n",
              "      const chunk = new Uint8Array(fileData, position, length);\n",
              "      position += length;\n",
              "\n",
              "      const base64 = btoa(String.fromCharCode.apply(null, chunk));\n",
              "      yield {\n",
              "        response: {\n",
              "          action: 'append',\n",
              "          file: file.name,\n",
              "          data: base64,\n",
              "        },\n",
              "      };\n",
              "\n",
              "      let percentDone = fileData.byteLength === 0 ?\n",
              "          100 :\n",
              "          Math.round((position / fileData.byteLength) * 100);\n",
              "      percent.textContent = `${percentDone}% done`;\n",
              "\n",
              "    } while (position < fileData.byteLength);\n",
              "  }\n",
              "\n",
              "  // All done.\n",
              "  yield {\n",
              "    response: {\n",
              "      action: 'complete',\n",
              "    }\n",
              "  };\n",
              "}\n",
              "\n",
              "scope.google = scope.google || {};\n",
              "scope.google.colab = scope.google.colab || {};\n",
              "scope.google.colab._files = {\n",
              "  _uploadFiles,\n",
              "  _uploadFilesContinue,\n",
              "};\n",
              "})(self);\n",
              "</script> "
            ]
          },
          "metadata": {}
        },
        {
          "output_type": "stream",
          "name": "stdout",
          "text": [
            "Saving dog_breeds.txt to dog_breeds (4).txt\n"
          ]
        },
        {
          "output_type": "execute_result",
          "data": {
            "text/plain": [
              "_io.TextIOWrapper"
            ]
          },
          "metadata": {},
          "execution_count": 16
        }
      ]
    },
    {
      "cell_type": "code",
      "source": [
        "with open('dog_breeds.txt', 'r') as reader:\n",
        "# Read & print the entire file\n",
        "  print(reader.read())"
      ],
      "metadata": {
        "colab": {
          "base_uri": "https://localhost:8080/"
        },
        "id": "gUzoC6D2HrNN",
        "outputId": "4c51271f-8998-4d97-d6e1-b555d998d063"
      },
      "execution_count": null,
      "outputs": [
        {
          "output_type": "stream",
          "name": "stdout",
          "text": [
            "german shepherd dog.\n",
            "poodle.\n",
            "bulldog.\n",
            "most popular breeds.\n",
            "golden retriever.\n",
            "labrador retriever.\n",
            "french bulldog.\n",
            "beagle.\n"
          ]
        }
      ]
    },
    {
      "cell_type": "markdown",
      "source": [
        "**Here’s an example of how to read the entire file as a list using the Python .readlines() method:**"
      ],
      "metadata": {
        "id": "1wa9QI4NIN2Q"
      }
    },
    {
      "cell_type": "code",
      "source": [
        "f = open('dog_breeds.txt')\n",
        "f.readlines()  # Returns a list object"
      ],
      "metadata": {
        "colab": {
          "base_uri": "https://localhost:8080/"
        },
        "id": "mtFwuPtMIQpL",
        "outputId": "ae2f3de4-3091-4901-c60a-052da9c57b65"
      },
      "execution_count": null,
      "outputs": [
        {
          "output_type": "execute_result",
          "data": {
            "text/plain": [
              "['german shepherd dog.\\n',\n",
              " 'poodle.\\n',\n",
              " 'bulldog.\\n',\n",
              " 'most popular breeds.\\n',\n",
              " 'golden retriever.\\n',\n",
              " 'labrador retriever.\\n',\n",
              " 'french bulldog.\\n',\n",
              " 'beagle.']"
            ]
          },
          "metadata": {},
          "execution_count": 13
        }
      ]
    },
    {
      "cell_type": "markdown",
      "source": [
        "**Another way to convert into LIST**"
      ],
      "metadata": {
        "id": "yBh97C7TKp1p"
      }
    },
    {
      "cell_type": "code",
      "source": [
        "f = open('dog_breeds.txt')\n",
        "list(f)"
      ],
      "metadata": {
        "colab": {
          "base_uri": "https://localhost:8080/"
        },
        "id": "T2VLJnjxKm31",
        "outputId": "f498e59a-ce78-4b3c-9344-3d76ac046f29"
      },
      "execution_count": null,
      "outputs": [
        {
          "output_type": "execute_result",
          "data": {
            "text/plain": [
              "['german shepherd dog.\\n',\n",
              " 'poodle.\\n',\n",
              " 'bulldog.\\n',\n",
              " 'most popular breeds.\\n',\n",
              " 'golden retriever.\\n',\n",
              " 'labrador retriever.\\n',\n",
              " 'french bulldog.\\n',\n",
              " 'beagle.']"
            ]
          },
          "metadata": {},
          "execution_count": 18
        }
      ]
    },
    {
      "cell_type": "markdown",
      "source": [
        "**Iterating Over Each Line in the File**"
      ],
      "metadata": {
        "id": "6EfsKGuCJljE"
      }
    },
    {
      "cell_type": "code",
      "source": [
        "with open('dog_breeds.txt', 'r') as reader:\n",
        "# Read and print the entire file line by line\n",
        "  line = reader.readline()\n",
        "  while line != '':  # The EOF char is an empty string\n",
        "    print(line, end='')\n",
        "    line = reader.readline()"
      ],
      "metadata": {
        "colab": {
          "base_uri": "https://localhost:8080/"
        },
        "id": "R_4klbDMJn1L",
        "outputId": "f36733a2-3f10-4c6f-cf1e-3bf1a814c3e6"
      },
      "execution_count": null,
      "outputs": [
        {
          "output_type": "stream",
          "name": "stdout",
          "text": [
            "german shepherd dog.\n",
            "poodle.\n",
            "bulldog.\n",
            "most popular breeds.\n",
            "golden retriever.\n",
            "labrador retriever.\n",
            "french bulldog.\n",
            "beagle."
          ]
        }
      ]
    },
    {
      "cell_type": "markdown",
      "source": [
        "**INSERTION SORT**"
      ],
      "metadata": {
        "id": "FhXQO2ixQ3le"
      }
    },
    {
      "cell_type": "code",
      "source": [
        "# Function to do insertion sort\n",
        "def insertionSort(arr):\n",
        "\n",
        "\t# Traverse through 1 to len(arr)\n",
        "\tfor i in range(1, len(arr)):\n",
        "\t\tkey = arr[i]\n",
        "\n",
        "\t\t# Move elements of arr[0..i-1], that are greater than key, to one position ahead\n",
        "\t\t# of their current position\n",
        "\t\tj = i-1\n",
        "\t\twhile j >=0 and key < arr[j] :\n",
        "\t\t\t\tarr[j+1] = arr[j]\n",
        "\t\t\t\tj -= 1\n",
        "\t\tarr[j+1] = key\n",
        "\n",
        "\n",
        "arr = [12, 11, 13, 5, 6]\n",
        "insertionSort(arr)\n",
        "print(arr)\n"
      ],
      "metadata": {
        "colab": {
          "base_uri": "https://localhost:8080/"
        },
        "id": "ESXzcCX4Q6ZZ",
        "outputId": "cdcbbdbb-70ff-426f-97f8-1ab43009f507"
      },
      "execution_count": null,
      "outputs": [
        {
          "output_type": "stream",
          "name": "stdout",
          "text": [
            "[5, 6, 11, 12, 13]\n"
          ]
        }
      ]
    },
    {
      "cell_type": "markdown",
      "source": [
        "**SELECTION SORT**"
      ],
      "metadata": {
        "id": "gVncbHemSGu_"
      }
    },
    {
      "cell_type": "code",
      "source": [
        "def selectionSort(array, size):    \n",
        "    for ind in range(size):\n",
        "        min_index = ind\n",
        " \n",
        "        for j in range(ind + 1, size):\n",
        "            # select the minimum element in every iteration\n",
        "            if array[j] < array[min_index]:\n",
        "                min_index = j\n",
        "         # swapping the elements to sort the array\n",
        "        (array[ind], array[min_index]) = (array[min_index], array[ind])\n",
        " \n",
        "arr = [-2, 45, 0, 11, -9,88,-97,-202,747]\n",
        "size = len(arr)\n",
        "selectionSort(arr, size)\n",
        "print('The array after sorting in Ascending Order by selection sort is:')\n",
        "print(arr)"
      ],
      "metadata": {
        "id": "zFJoAHelUsx4",
        "outputId": "dd3f4e56-8a87-41e5-921e-14216be0e009",
        "colab": {
          "base_uri": "https://localhost:8080/"
        }
      },
      "execution_count": null,
      "outputs": [
        {
          "output_type": "stream",
          "name": "stdout",
          "text": [
            "The array after sorting in Ascending Order by selection sort is:\n",
            "[-202, -97, -9, -2, 0, 11, 45, 88, 747]\n"
          ]
        }
      ]
    },
    {
      "cell_type": "markdown",
      "source": [
        "# **QUICK SORT**"
      ],
      "metadata": {
        "id": "8AfkOIuQX-ac"
      }
    },
    {
      "cell_type": "markdown",
      "source": [
        "*   This algorithm uses pivot as the last element in the nums list\n",
        "*   It has a pointer to track the smaller element than the pivot element\n",
        "*   In the funcction the pointer is swapped with the pivot element\n",
        "\n",
        "\n",
        "\n",
        "\n",
        "\n",
        "\n"
      ],
      "metadata": {
        "id": "9R3gE4k1ZAvJ"
      }
    },
    {
      "cell_type": "code",
      "source": [
        "def partition(arr, low, high):\n",
        "  # rightmost element as pivot\n",
        "  pivot = arr[high]\n",
        "\n",
        "  # pointer \n",
        "  i = low - 1\n",
        "\n",
        "  for j in range(low, high):\n",
        "    if arr[j] <= pivot:\n",
        "      i = i + 1\n",
        "      (arr[i], arr[j]) = (arr[j], arr[i])\n",
        "  (arr[i + 1], arr[high]) = (arr[high], arr[i + 1])\n",
        "\n",
        "  # return the position \n",
        "  return i + 1\n",
        "\n",
        "# QickSort\n",
        "def QuickSort(arr, low, high):\n",
        "  if low < high:\n",
        "    # find pivot element \n",
        "    pivot = partition(arr, low, high)\n",
        "    quickSort(arr, low, pivot - 1)\n",
        "    quickSort(arr, pivot + 1, high)\n",
        "\n",
        "# Driver Code\n",
        "array = [9, 1, 8, 2, 7, 3, 5, 6, 4]\n",
        "print(\"The Original Array:\", array)\n",
        "\n",
        "size = len(array)\n",
        "quickSort(array, 0, size - 1)\n",
        "print('The Sorted Array:', array)\n"
      ],
      "metadata": {
        "id": "PvjoXlVs2Kl2",
        "outputId": "0f8d585a-2b28-4655-f99f-d3f6c3ff8416",
        "colab": {
          "base_uri": "https://localhost:8080/",
          "height": 244
        }
      },
      "execution_count": null,
      "outputs": [
        {
          "output_type": "stream",
          "name": "stdout",
          "text": [
            "The Original Array: [9, 1, 8, 2, 7, 3, 5, 6, 4]\n"
          ]
        },
        {
          "output_type": "error",
          "ename": "NameError",
          "evalue": "ignored",
          "traceback": [
            "\u001b[0;31m---------------------------------------------------------------------------\u001b[0m",
            "\u001b[0;31mNameError\u001b[0m                                 Traceback (most recent call last)",
            "\u001b[0;32m<ipython-input-1-b9e28eeb7e32>\u001b[0m in \u001b[0;36m<module>\u001b[0;34m\u001b[0m\n\u001b[1;32m     28\u001b[0m \u001b[0;34m\u001b[0m\u001b[0m\n\u001b[1;32m     29\u001b[0m \u001b[0msize\u001b[0m \u001b[0;34m=\u001b[0m \u001b[0mlen\u001b[0m\u001b[0;34m(\u001b[0m\u001b[0marray\u001b[0m\u001b[0;34m)\u001b[0m\u001b[0;34m\u001b[0m\u001b[0;34m\u001b[0m\u001b[0m\n\u001b[0;32m---> 30\u001b[0;31m \u001b[0mquickSort\u001b[0m\u001b[0;34m(\u001b[0m\u001b[0marray\u001b[0m\u001b[0;34m,\u001b[0m \u001b[0;36m0\u001b[0m\u001b[0;34m,\u001b[0m \u001b[0msize\u001b[0m \u001b[0;34m-\u001b[0m \u001b[0;36m1\u001b[0m\u001b[0;34m)\u001b[0m\u001b[0;34m\u001b[0m\u001b[0;34m\u001b[0m\u001b[0m\n\u001b[0m\u001b[1;32m     31\u001b[0m \u001b[0mprint\u001b[0m\u001b[0;34m(\u001b[0m\u001b[0;34m'The Sorted Array:'\u001b[0m\u001b[0;34m,\u001b[0m \u001b[0marray\u001b[0m\u001b[0;34m)\u001b[0m\u001b[0;34m\u001b[0m\u001b[0;34m\u001b[0m\u001b[0m\n",
            "\u001b[0;31mNameError\u001b[0m: name 'quickSort' is not defined"
          ]
        }
      ]
    }
  ]
}