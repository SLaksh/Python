{
  "nbformat": 4,
  "nbformat_minor": 0,
  "metadata": {
    "colab": {
      "provenance": [],
      "authorship_tag": "ABX9TyMM2PKzNptGH8i0K1+O/p89",
      "include_colab_link": true
    },
    "kernelspec": {
      "name": "python3",
      "display_name": "Python 3"
    },
    "language_info": {
      "name": "python"
    }
  },
  "cells": [
    {
      "cell_type": "markdown",
      "metadata": {
        "id": "view-in-github",
        "colab_type": "text"
      },
      "source": [
        "<a href=\"https://colab.research.google.com/github/SLaksh/Python/blob/main/TextSimilarity1.ipynb\" target=\"_parent\"><img src=\"https://colab.research.google.com/assets/colab-badge.svg\" alt=\"Open In Colab\"/></a>"
      ]
    },
    {
      "cell_type": "code",
      "source": [
        "###   Jaccard Similarity"
      ],
      "metadata": {
        "id": "n4QzoAWMrWnb"
      },
      "execution_count": null,
      "outputs": []
    },
    {
      "cell_type": "code",
      "source": [
        "def jaccard_similarity(x,y):\n",
        "  \"\"\" returns the jaccard similarity between two lists \"\"\"\n",
        "  intersection_cardinality = len(set.intersection(*[set(x), set(y)]))\n",
        "  union_cardinality = len(set.union(*[set(x), set(y)]))\n",
        "  return intersection_cardinality/float(union_cardinality)"
      ],
      "metadata": {
        "id": "VoYam2LErJRN"
      },
      "execution_count": null,
      "outputs": []
    },
    {
      "cell_type": "code",
      "source": [
        "sentences = [\"The bottle is empty\",\n",
        "\"There is nothing in the bottle\"]\n",
        "sentences = [sent.lower().split(\" \") for sent in sentences]\n",
        "jaccard_similarity(sentences[0], sentences[1])\n",
        "\n"
      ],
      "metadata": {
        "colab": {
          "base_uri": "https://localhost:8080/"
        },
        "id": "eJ-hZSMSrQU-",
        "outputId": "b95e9fc2-7d93-48d8-d26b-b8ccf5daa63e"
      },
      "execution_count": null,
      "outputs": [
        {
          "output_type": "execute_result",
          "data": {
            "text/plain": [
              "0.42857142857142855"
            ]
          },
          "metadata": {},
          "execution_count": 3
        }
      ]
    },
    {
      "cell_type": "code",
      "source": [
        "###  Euclidean distance\n",
        "##    Let’s compute the similarity between our example statements using Euclidean distance"
      ],
      "metadata": {
        "id": "kQfDN9jwrQoU"
      },
      "execution_count": null,
      "outputs": []
    },
    {
      "cell_type": "code",
      "source": [
        "from math import sqrt, pow, exp\n",
        " \n",
        "def squared_sum(x):\n",
        "  \"\"\" return 3 rounded square rooted value \"\"\"\n",
        " \n",
        "  return round(sqrt(sum([a*a for a in x])),3)\n",
        " \n",
        "def euclidean_distance(x,y):\n",
        "  \"\"\" return euclidean distance between two lists \"\"\"\n",
        " \n",
        "  return sqrt(sum(pow(a-b,2) for a, b in zip(x, y)))"
      ],
      "metadata": {
        "id": "Z8gmvOnwsFid"
      },
      "execution_count": null,
      "outputs": []
    },
    {
      "cell_type": "code",
      "source": [
        "import spacy\n",
        "\n",
        "nlp = spacy.load(\"en_core_web_sm\")\n",
        "sentences = [\"The bottle is empty\",\n",
        "\"There is nothing in the bottle\"]\n",
        "embeddings = [nlp(sentence).vector for sentence in sentences]\n",
        "##words = [nlp.vocab.strings[w] for w in sentences[0][0]]\n",
        "##distance = euclidean_distance(words[0], words[1])\n",
        "\n",
        "distance = euclidean_distance(embeddings[0], embeddings[1])\n",
        "print(distance)\n"
      ],
      "metadata": {
        "colab": {
          "base_uri": "https://localhost:8080/"
        },
        "id": "TKGgveHev70y",
        "outputId": "ad6d6d4f-3051-4550-fdb2-ac4024016aa6"
      },
      "execution_count": null,
      "outputs": [
        {
          "output_type": "stream",
          "name": "stdout",
          "text": [
            "4.575407649134231\n"
          ]
        }
      ]
    },
    {
      "cell_type": "code",
      "source": [
        "def cos_similarity(x,y):\n",
        "  \"\"\" return cosine similarity between two lists \"\"\"\n",
        " \n",
        "  numerator = sum(a*b for a,b in zip(x,y))\n",
        "  denominator = squared_sum(x)*squared_sum(y)\n",
        "  return round(numerator/float(denominator),3)\n",
        "\n",
        "cos_similarity(embeddings[0], embeddings[1])"
      ],
      "metadata": {
        "id": "YdlEtiiT1Ct8",
        "outputId": "e4b2f58c-234b-4e05-c4ea-a226c5ab2b73",
        "colab": {
          "base_uri": "https://localhost:8080/"
        }
      },
      "execution_count": null,
      "outputs": [
        {
          "output_type": "execute_result",
          "data": {
            "text/plain": [
              "0.356"
            ]
          },
          "metadata": {},
          "execution_count": 8
        }
      ]
    }
  ]
}