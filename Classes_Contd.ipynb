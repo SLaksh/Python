{
  "nbformat": 4,
  "nbformat_minor": 0,
  "metadata": {
    "colab": {
      "provenance": [],
      "authorship_tag": "ABX9TyO3SbvA/MyXbFWzqwf+hNtQ",
      "include_colab_link": true
    },
    "kernelspec": {
      "name": "python3",
      "display_name": "Python 3"
    },
    "language_info": {
      "name": "python"
    }
  },
  "cells": [
    {
      "cell_type": "markdown",
      "metadata": {
        "id": "view-in-github",
        "colab_type": "text"
      },
      "source": [
        "<a href=\"https://colab.research.google.com/github/SLaksh/Python/blob/main/Classes_Contd.ipynb\" target=\"_parent\"><img src=\"https://colab.research.google.com/assets/colab-badge.svg\" alt=\"Open In Colab\"/></a>"
      ]
    },
    {
      "cell_type": "code",
      "execution_count": null,
      "metadata": {
        "colab": {
          "base_uri": "https://localhost:8080/"
        },
        "id": "CEyICnkM7-k6",
        "outputId": "4fd91533-e8ee-4dd4-cd69-52615a1cb14b"
      },
      "outputs": [
        {
          "output_type": "execute_result",
          "data": {
            "text/plain": [
              "('instance method called', <__main__.MyClass at 0x7f3962726ed0>)"
            ]
          },
          "metadata": {},
          "execution_count": 7
        }
      ],
      "source": [
        "class MyClass:\n",
        "    def method(self):\n",
        "        return 'instance method called', self\n",
        "\n",
        "    @classmethod\n",
        "    def classmethod(cls):\n",
        "        return 'class method called', cls\n",
        "\n",
        "    @staticmethod\n",
        "    def staticmethod():\n",
        "        return 'static method called'\n",
        "  \n",
        "obj = MyClass()\n",
        "obj.method()"
      ]
    },
    {
      "cell_type": "code",
      "source": [
        "obj.classmethod()"
      ],
      "metadata": {
        "colab": {
          "base_uri": "https://localhost:8080/"
        },
        "id": "y3jYL6Hd8gB-",
        "outputId": "0d32bbae-933c-49e1-a377-5cb9744c6810"
      },
      "execution_count": null,
      "outputs": [
        {
          "output_type": "execute_result",
          "data": {
            "text/plain": [
              "('class method called', __main__.MyClass)"
            ]
          },
          "metadata": {},
          "execution_count": 8
        }
      ]
    },
    {
      "cell_type": "markdown",
      "source": [
        "**This confirms that static methods can neither access the object instance state nor the class state. They work like regular functions but belong to the class’s (and every instance’s) namespace.**"
      ],
      "metadata": {
        "id": "FuaQ6HPy9FpC"
      }
    },
    {
      "cell_type": "code",
      "source": [
        "obj.staticmethod()"
      ],
      "metadata": {
        "colab": {
          "base_uri": "https://localhost:8080/",
          "height": 35
        },
        "id": "NdEE2yV488Nu",
        "outputId": "bfad25d6-8d1b-4047-d179-e8f4947e5626"
      },
      "execution_count": null,
      "outputs": [
        {
          "output_type": "execute_result",
          "data": {
            "text/plain": [
              "'static method called'"
            ],
            "application/vnd.google.colaboratory.intrinsic+json": {
              "type": "string"
            }
          },
          "metadata": {},
          "execution_count": 4
        }
      ]
    },
    {
      "cell_type": "markdown",
      "source": [
        "**let’s take a look at what happens when we attempt to call these methods on the class itself - without creating an object instance**"
      ],
      "metadata": {
        "id": "hJYWbLD-9VGC"
      }
    },
    {
      "cell_type": "code",
      "source": [
        "MyClass.classmethod()\n"
      ],
      "metadata": {
        "id": "kokkd2Nb9Itj",
        "colab": {
          "base_uri": "https://localhost:8080/"
        },
        "outputId": "310840f0-5603-4609-db69-a4732a1df5e9"
      },
      "execution_count": null,
      "outputs": [
        {
          "output_type": "execute_result",
          "data": {
            "text/plain": [
              "('class method called', __main__.MyClass)"
            ]
          },
          "metadata": {},
          "execution_count": 5
        }
      ]
    },
    {
      "cell_type": "code",
      "source": [
        "MyClass.staticmethod()"
      ],
      "metadata": {
        "id": "34VMfjTX9pcH"
      },
      "execution_count": null,
      "outputs": []
    },
    {
      "cell_type": "code",
      "source": [
        "MyClass.method()"
      ],
      "metadata": {
        "id": "LC4tXC639wvn",
        "colab": {
          "base_uri": "https://localhost:8080/",
          "height": 166
        },
        "outputId": "8d74a24e-5ccd-4379-c614-6603a013cc12"
      },
      "execution_count": null,
      "outputs": [
        {
          "output_type": "error",
          "ename": "TypeError",
          "evalue": "ignored",
          "traceback": [
            "\u001b[0;31m---------------------------------------------------------------------------\u001b[0m",
            "\u001b[0;31mTypeError\u001b[0m                                 Traceback (most recent call last)",
            "\u001b[0;32m<ipython-input-9-88f17b4fa117>\u001b[0m in \u001b[0;36m<module>\u001b[0;34m\u001b[0m\n\u001b[0;32m----> 1\u001b[0;31m \u001b[0mMyClass\u001b[0m\u001b[0;34m.\u001b[0m\u001b[0mmethod\u001b[0m\u001b[0;34m(\u001b[0m\u001b[0;34m)\u001b[0m\u001b[0;34m\u001b[0m\u001b[0;34m\u001b[0m\u001b[0m\n\u001b[0m",
            "\u001b[0;31mTypeError\u001b[0m: method() missing 1 required positional argument: 'self'"
          ]
        }
      ]
    },
    {
      "cell_type": "markdown",
      "source": [
        "**With real examples on Class & Methods**"
      ],
      "metadata": {
        "id": "qzh5nI8H-FXE"
      }
    },
    {
      "cell_type": "code",
      "source": [
        "class Pizza:\n",
        "    def __init__(self, ingredients):\n",
        "        self.ingredients = ingredients\n",
        "\n",
        "    def __repr__(self):\n",
        "        return f'Pizza({self.ingredients!r})'"
      ],
      "metadata": {
        "id": "03p_-qvg-K5D"
      },
      "execution_count": null,
      "outputs": []
    },
    {
      "cell_type": "code",
      "source": [
        " Pizza(['cheese', 'tomatoes'])"
      ],
      "metadata": {
        "id": "NNmS_gBQ-Zts"
      },
      "execution_count": null,
      "outputs": []
    },
    {
      "cell_type": "markdown",
      "source": [
        "**We know there are different types of pizzas for which we use the Class methods as factory methods**"
      ],
      "metadata": {
        "id": "L1Cj8wOo-r53"
      }
    },
    {
      "cell_type": "code",
      "source": [
        "class Pizza:\n",
        "    def __init__(self, ingredients):\n",
        "        self.ingredients = ingredients\n",
        "\n",
        "    def __repr__(self):\n",
        "        return f'Pizza({self.ingredients!r})'\n",
        "\n",
        "    @classmethod\n",
        "    def margherita(cls):\n",
        "        return cls(['mozzarella', 'tomatoes'])\n",
        "\n",
        "    @classmethod\n",
        "    def prosciutto(cls):\n",
        "        return cls(['mozzarella', 'tomatoes', 'ham'])"
      ],
      "metadata": {
        "id": "oJ1Ni5gJ--rN"
      },
      "execution_count": null,
      "outputs": []
    },
    {
      "cell_type": "markdown",
      "source": [
        "**Note how I’m using the 'cls' argument in the margherita and prosciutto factory methods instead of calling the Pizza constructor directly.**\n",
        "\n",
        "**This is a trick you can use to follow the Don’t Repeat Yourself (DRY) principle **bold text**"
      ],
      "metadata": {
        "id": "ks-GwEY7_J3s"
      }
    },
    {
      "cell_type": "code",
      "source": [
        "Pizza.margherita()\n",
        "Pizza.prosciutto()"
      ],
      "metadata": {
        "colab": {
          "base_uri": "https://localhost:8080/"
        },
        "id": "jAUMcgTr_QE0",
        "outputId": "dccc258b-41b9-41d2-cada-b1cf28d3a589"
      },
      "execution_count": null,
      "outputs": [
        {
          "output_type": "execute_result",
          "data": {
            "text/plain": [
              "Pizza(['mozzarella', 'tomatoes', 'ham'])"
            ]
          },
          "metadata": {},
          "execution_count": 12
        }
      ]
    },
    {
      "cell_type": "code",
      "source": [
        "class Student():\n",
        "    def __init__(self, name):\n",
        "        self.name = name\n",
        "\t\t\n",
        "    def display(self):\n",
        "        return self.name\n",
        "\n",
        "st1 = Student(\"Sherlock Homes\")\n",
        "st2 = Student(\"James Bond\")\n",
        "\n",
        "print(st1.display())\n",
        "print(st2.display())"
      ],
      "metadata": {
        "id": "NSlAFYfe8nod"
      },
      "execution_count": null,
      "outputs": []
    },
    {
      "cell_type": "code",
      "source": [
        "class Student():\n",
        "\n",
        "    def __init__(self, name):\n",
        "        self.name = name\n",
        "\t\t\n",
        "    def display(self):\n",
        "        return self.name\n",
        "    name = \"John Dollar\"\t\t\n",
        "    @classmethod   # decorator\n",
        "    def create(cls):\n",
        "      return cls.name"
      ],
      "metadata": {
        "id": "QP9-hmYL85Pa"
      },
      "execution_count": null,
      "outputs": []
    },
    {
      "cell_type": "code",
      "source": [
        "st1 = Student(\"Sherlock Holmes\")\n",
        "st2 = Student(\"James Bond\")\n",
        "\n",
        "print(st1.display())\n",
        "print(st2.display())\n",
        "print(Student.create())"
      ],
      "metadata": {
        "colab": {
          "base_uri": "https://localhost:8080/"
        },
        "id": "gXsMpG199nm-",
        "outputId": "e9bac76f-d154-4089-ca56-979c2be5afe0"
      },
      "execution_count": null,
      "outputs": [
        {
          "output_type": "stream",
          "name": "stdout",
          "text": [
            "Sherlock Holmes\n",
            "James Bond\n",
            "John Dollar\n"
          ]
        }
      ]
    },
    {
      "cell_type": "code",
      "source": [
        "class Student():\n",
        "    def __init__(self, name, age):\n",
        "        self.name = name\n",
        "        self.age = age\n",
        "\t\t\n",
        "    @classmethod\t\n",
        "    def create(cls, name, age):\n",
        "        return cls(name, age + 1)\n",
        "\n",
        "st1 = Student(\"John\", 20)\n",
        "st2 = Student.create(\"Johny\", 30)\n",
        "\n",
        "print(st1.age)\n",
        "print(st2.age)"
      ],
      "metadata": {
        "colab": {
          "base_uri": "https://localhost:8080/"
        },
        "id": "QqALynuw-TaQ",
        "outputId": "080f0a17-c3c4-40d6-ed6f-753ae6a1b7d3"
      },
      "execution_count": null,
      "outputs": [
        {
          "output_type": "stream",
          "name": "stdout",
          "text": [
            "20\n",
            "31\n"
          ]
        }
      ]
    },
    {
      "cell_type": "code",
      "source": [
        "class Student():\n",
        "\n",
        "    def __init__(self, name):\n",
        "        self.name = name\n",
        "\t\t\n",
        "    def display(self):\n",
        "        return self.name\n",
        "\n",
        "    name = \"John Dollar\"\t\t\n",
        "    @classmethod   # decorator\n",
        "    def create(cls):\n",
        "      return cls.name\n",
        "    \n",
        "    @staticmethod\n",
        "    def even(x):\n",
        "        if x % 2 == 0:\n",
        "            return True\n",
        "        else:\n",
        "            return False\n",
        "\n",
        "  "
      ],
      "metadata": {
        "id": "FLsgGZaw-jg3"
      },
      "execution_count": null,
      "outputs": []
    },
    {
      "cell_type": "code",
      "source": [
        "st1 = Student(\"Sherlock Holmes\")\n",
        "st2 = Student(\"James Bond\")\n",
        "\n",
        "print(st1.display())\n",
        "print(st2.display())\n",
        "print(Student.create())\n",
        "print(Number.even(40))"
      ],
      "metadata": {
        "colab": {
          "base_uri": "https://localhost:8080/",
          "height": 252
        },
        "id": "iq4oqYur-xjt",
        "outputId": "ad514c54-82c5-4039-f706-319c8cd69579"
      },
      "execution_count": null,
      "outputs": [
        {
          "output_type": "stream",
          "name": "stdout",
          "text": [
            "Sherlock Holmes\n",
            "James Bond\n",
            "John Dollar\n"
          ]
        },
        {
          "output_type": "error",
          "ename": "NameError",
          "evalue": "ignored",
          "traceback": [
            "\u001b[0;31m---------------------------------------------------------------------------\u001b[0m",
            "\u001b[0;31mNameError\u001b[0m                                 Traceback (most recent call last)",
            "\u001b[0;32m<ipython-input-11-fe161f46182a>\u001b[0m in \u001b[0;36m<module>\u001b[0;34m\u001b[0m\n\u001b[1;32m      5\u001b[0m \u001b[0mprint\u001b[0m\u001b[0;34m(\u001b[0m\u001b[0mst2\u001b[0m\u001b[0;34m.\u001b[0m\u001b[0mdisplay\u001b[0m\u001b[0;34m(\u001b[0m\u001b[0;34m)\u001b[0m\u001b[0;34m)\u001b[0m\u001b[0;34m\u001b[0m\u001b[0;34m\u001b[0m\u001b[0m\n\u001b[1;32m      6\u001b[0m \u001b[0mprint\u001b[0m\u001b[0;34m(\u001b[0m\u001b[0mStudent\u001b[0m\u001b[0;34m.\u001b[0m\u001b[0mcreate\u001b[0m\u001b[0;34m(\u001b[0m\u001b[0;34m)\u001b[0m\u001b[0;34m)\u001b[0m\u001b[0;34m\u001b[0m\u001b[0;34m\u001b[0m\u001b[0m\n\u001b[0;32m----> 7\u001b[0;31m \u001b[0mprint\u001b[0m\u001b[0;34m(\u001b[0m\u001b[0mNumber\u001b[0m\u001b[0;34m.\u001b[0m\u001b[0meven\u001b[0m\u001b[0;34m(\u001b[0m\u001b[0;36m40\u001b[0m\u001b[0;34m)\u001b[0m\u001b[0;34m)\u001b[0m\u001b[0;34m\u001b[0m\u001b[0;34m\u001b[0m\u001b[0m\n\u001b[0m",
            "\u001b[0;31mNameError\u001b[0m: name 'Number' is not defined"
          ]
        }
      ]
    },
    {
      "cell_type": "code",
      "source": [
        "class Person():\n",
        "    def __init__(self, name, age, can_vote):\n",
        "        self.name = name\n",
        "        self.age = age\n",
        "        self.can_vote = can_vote\n",
        "\t\n",
        "    @staticmethod\n",
        "    def is_adult(age):\n",
        "        if age >= 18:\n",
        "            return True\n",
        "        else:\n",
        "            return False\n",
        "\t\t\n",
        "    @classmethod\t\n",
        "    def create(cls, name, age):\n",
        "        if cls.is_adult(age) == True:\n",
        "            return cls(name, age, \"Yes\")\n",
        "        else:\n",
        "            return cls(name, age, \"No\")\n",
        "\n",
        "st1 = Person.create(\"John\", 25)\n",
        "st2 = Person.create(\"Johny\", 10)\n",
        "\n",
        "print(\"Can\", st1.name, \"vote?\", st1.can_vote)\n",
        "print(\"Can\", st2.name, \"vote?\", st2.can_vote)"
      ],
      "metadata": {
        "colab": {
          "base_uri": "https://localhost:8080/"
        },
        "id": "QAtpUafx_TK6",
        "outputId": "f80386ca-26d9-42fd-a88f-61d57822cbae"
      },
      "execution_count": null,
      "outputs": [
        {
          "output_type": "stream",
          "name": "stdout",
          "text": [
            "Can John vote? Yes\n",
            "Can Johny vote? No\n"
          ]
        }
      ]
    }
  ]
}